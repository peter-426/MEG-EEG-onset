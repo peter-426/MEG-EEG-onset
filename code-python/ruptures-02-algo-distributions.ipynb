{
 "cells": [
  {
   "cell_type": "markdown",
   "id": "bb675a16-7bf8-4210-b933-967335618bc1",
   "metadata": {},
   "source": [
    "### optimised algorithms for change point detection \n",
    "\n",
    "#### Python package ruptures \n",
    "\n",
    "#### simulation using simulated data, gridsearch for optimal parameters\n",
    "\n",
    "author: peter\n",
    "\n",
    "date: 2024"
   ]
  },
  {
   "cell_type": "markdown",
   "id": "e8efc5ed-6a9e-4ece-b1da-225fd253f5d4",
   "metadata": {},
   "source": [
    "Ruptures: \n",
    "\n",
    "C. Truong, L. Oudre, N. Vayatis. Selective review of offline change point detection methods. Signal Processing, 167:107299, 2020.\n",
    "\n",
    "<li> https://centre-borelli.github.io/ruptures-docs/\n",
    "<li> https://github.com/deepcharles/ruptures\n",
    "<li> https://centre-borelli.github.io/ruptures-docs/user-guide/detection/\n",
    "<li> see also https://schuetzgroup.github.io/sdt-python/changepoint.html\n",
    "\n",
    "\n",
    "<br><br>\n",
    "#### simulation \n",
    "For each algorithm:\n",
    "<li>For each trial:\n",
    "<li>  &nbsp; For each cost in cost set:\n",
    "<li>   &nbsp;  &nbsp;   generate a new simulated dataset\n",
    "<li>   &nbsp;  &nbsp;   test algorithm\n",
    "\n",
    "<br><br>\n",
    "Use metrics to compare algorithm performance:\n",
    "<li>too early\n",
    "<li>MAE\n",
    "<li>std"
   ]
  },
  {
   "cell_type": "code",
   "execution_count": 41,
   "id": "2c52712b-bcf8-4ffe-879d-c583e994d911",
   "metadata": {},
   "outputs": [],
   "source": [
    "import matplotlib.pylab as plt\n",
    "import ruptures as rpt\n",
    "import h5py\n",
    "import numpy as np\n",
    "import pandas as pd\n",
    "import seaborn as sns\n",
    "from matplotlib.ticker import PercentFormatter"
   ]
  },
  {
   "cell_type": "markdown",
   "id": "e2ed8a82-ce6c-4439-afe9-8bf810d4a968",
   "metadata": {},
   "source": [
    "### run simulation and collect performance measurements"
   ]
  },
  {
   "cell_type": "code",
   "execution_count": 55,
   "id": "f47d7716-1658-4d0f-9a57-9ba42188175e",
   "metadata": {},
   "outputs": [],
   "source": [
    "### set simulation parameters\n",
    "#\n",
    "my_rand_seed = 12345\n",
    "\n",
    "num_signals = 1000  # number of trials in simulation\n",
    "\n",
    "mu, sigma = 0, 3 # mean and standard deviation\n",
    "mu2, sigma2 = mu + 1, sigma + 1\n",
    "n_bkps=1\n",
    "true_onset=200\n",
    "\n",
    "times = np.arange(0, 451, 1).tolist()\n",
    "\n",
    "# Note: algorithms: when using defaults make defaults explicit.\n",
    "# A new Pelt algorithm object must created for each trial.\n",
    "# This might also be true for other algorithm implementations.\n",
    "# Negligible performance hit, so no need to optimise.\n",
    "\n",
    "# linear cost function requires > 1 dimensions.\n",
    "mdl_list =['l1', 'l2', 'normal', 'rbf', 'cosine', 'clinear', 'rank', 'mahalanobis', 'ar']"
   ]
  },
  {
   "cell_type": "markdown",
   "id": "9474d260-26ab-47e6-83ab-06d935c8cea8",
   "metadata": {},
   "source": [
    "### simulated data generation"
   ]
  },
  {
   "cell_type": "code",
   "execution_count": 43,
   "id": "687a6fbf-3ff3-403e-b44e-6e9d65701530",
   "metadata": {},
   "outputs": [],
   "source": [
    "def make_data(mu, sigma, mu2, sigma2, true_onset, rng):\n",
    "    s1 = rng.normal(mu, sigma, true_onset-1)\n",
    "    s2 = rng.normal(mu2, sigma2, 251)\n",
    "    signal= np.array(list(s1) + list(s2))\n",
    "    return signal"
   ]
  },
  {
   "cell_type": "markdown",
   "id": "fe9f41bd-81f8-43bf-8f5a-919fdf96cd6f",
   "metadata": {},
   "source": [
    "### Binseg"
   ]
  },
  {
   "cell_type": "code",
   "execution_count": null,
   "id": "e9814383-4752-45df-a579-6f81f8fbb17d",
   "metadata": {},
   "outputs": [],
   "source": [
    "binseg_list = []\n",
    "\n",
    "for mdl in mdl_list:\n",
    "    binseg_predictions = []\n",
    "    rng = np.random.default_rng(my_rand_seed)  \n",
    "    for ii in range(num_signals):\n",
    "        # generate signal\n",
    "        signal = make_data(mu, sigma, mu2, sigma2, true_onset, rng)\n",
    "\n",
    "        # Binseg algorithm\n",
    "        algo = rpt.Binseg(model=mdl, custom_cost=None, min_size=2, jump=5, params=None).fit(signal)\n",
    "        est_onset = algo.predict(n_bkps=n_bkps)\n",
    "        binseg_predictions.append(est_onset[0])\n",
    "    binseg_list.append(binseg_predictions)"
   ]
  },
  {
   "cell_type": "markdown",
   "id": "96224220-640c-48a6-a337-8de4b29df75b",
   "metadata": {},
   "source": [
    "### Pelt\n",
    "Penalized change point detection.<br>\n",
    "<br>\n",
    "For a given model and penalty level, computes the segmentation which minimizes the constrained sum of approximation errors."
   ]
  },
  {
   "cell_type": "code",
   "execution_count": 45,
   "id": "3d159496-faa1-48e5-b416-4a13ce8d25d8",
   "metadata": {},
   "outputs": [],
   "source": [
    "pen=2\n",
    "\n",
    "pelt_list = []\n",
    "\n",
    "for mdl in mdl_list:\n",
    "    pelt_predictions = []\n",
    "    rng = np.random.default_rng(my_rand_seed)\n",
    "    for ii in range(num_signals):\n",
    "        # generate signal\n",
    "        signal = make_data(mu, sigma, mu2, sigma2, true_onset, rng)\n",
    "        \n",
    "        # Pelt algorithm\n",
    "        algo = rpt.Pelt(model=mdl, custom_cost=None, min_size=2, jump=5, params=None).fit(signal)\n",
    "        est_onset = algo.predict(pen=pen)           # penalty 1 --> early, 10 --> late\n",
    "        pelt_predictions.append(est_onset[0])\n",
    "    pelt_list.append(pelt_predictions)"
   ]
  },
  {
   "cell_type": "markdown",
   "id": "f16e9403-8f5b-409b-9d6d-6be05d8f71db",
   "metadata": {},
   "source": [
    "### Window"
   ]
  },
  {
   "cell_type": "code",
   "execution_count": 47,
   "id": "e7211957-8bc8-4749-ba82-59dab9f83f41",
   "metadata": {},
   "outputs": [],
   "source": [
    "\n",
    "window_list = []\n",
    "\n",
    "for mdl in mdl_list:\n",
    "    window_predictions = []\n",
    "    rng = np.random.default_rng(my_rand_seed)\n",
    "    for ii in range(num_signals):\n",
    "        # generate signal\n",
    "        signal = make_data(mu, sigma, mu2, sigma2, true_onset, rng)\n",
    "        \n",
    "        # window algorithm\n",
    "        algo = rpt.Window(width=100, model=mdl, custom_cost=None, min_size=2, jump=5, params=None).fit(signal)\n",
    "        est_onset = algo.predict(n_bkps=n_bkps)\n",
    "        window_predictions.append(est_onset[0])\n",
    "    window_list.append(window_predictions)"
   ]
  },
  {
   "cell_type": "markdown",
   "id": "a7154b6e-2873-4402-8869-ddfa9f9958aa",
   "metadata": {},
   "source": [
    "### Dynamic Programming"
   ]
  },
  {
   "cell_type": "code",
   "execution_count": 48,
   "id": "c29086d6-4c46-4743-b8d7-56c262df81ba",
   "metadata": {},
   "outputs": [],
   "source": [
    "dp_list = []\n",
    "\n",
    "for mdl in mdl_list:\n",
    "    dp_predictions = []\n",
    "    rng = np.random.default_rng(my_rand_seed)\n",
    "    for ii in range(num_signals):\n",
    "        # generate signal\n",
    "        signal = make_data(mu, sigma, mu2, sigma2, true_onset, rng)\n",
    "        \n",
    "        # Dynamic programming algorithm\n",
    "        algo = rpt.Dynp(model=mdl, custom_cost=None, min_size=2, jump=5, params=None).fit(signal)\n",
    "        est_onset = algo.predict(n_bkps=n_bkps)\n",
    "        dp_predictions.append(est_onset[0])\n",
    "    dp_list.append(dp_predictions)"
   ]
  },
  {
   "cell_type": "markdown",
   "id": "d821abef-99d4-45a1-b034-d7bd582696f7",
   "metadata": {},
   "source": [
    "### helper functions"
   ]
  },
  {
   "cell_type": "code",
   "execution_count": 49,
   "id": "4f305d81-2893-4885-a3e8-568687b4290c",
   "metadata": {},
   "outputs": [],
   "source": [
    "def get_too_early(predictions, true_onset):\n",
    "    pred_array = np.array(predictions)\n",
    "    too_early = pred_array[pred_array < true_onset]\n",
    "    too_early = np.abs(too_early - true_onset)\n",
    "    return too_early\n",
    "\n",
    "\n",
    "def get_pct_too_early(predictions, true_onset):\n",
    "    pred_array = np.array(predictions)\n",
    "    too_early = pred_array[pred_array < true_onset]\n",
    "    pct_too_early = len(too_early)/len(predictions)\n",
    "    return pct_too_early\n",
    "\n",
    "\n",
    "def get_MAE(predictions, true_onset):\n",
    "    pred_array = np.array(predictions)\n",
    "    MAE = np.mean(np.abs(pred_array - true_onset))\n",
    "    return MAE\n",
    "\n",
    "def get_std(predictions, true_onset):\n",
    "    pred_array = np.array(predictions)\n",
    "    std = np.std(pred_array)\n",
    "    return std\n",
    "\n",
    "\n",
    "def plot_predictions(pred, title):\n",
    "    pass\n"
   ]
  },
  {
   "cell_type": "markdown",
   "id": "4251802b-92c6-450b-9e96-a798a0fd7cc8",
   "metadata": {},
   "source": [
    "### choose model index for plotting [0..8]\n",
    "mdl_list =['l1', 'l2', 'normal', 'rbf', 'cosine', 'clinear', 'rank', 'mahalanobis', 'ar']"
   ]
  },
  {
   "cell_type": "code",
   "execution_count": 50,
   "id": "4b974ce1-809a-47df-b6a8-d3d70271f912",
   "metadata": {},
   "outputs": [],
   "source": [
    "mdl_idx=3"
   ]
  },
  {
   "cell_type": "markdown",
   "id": "ba1357a9-c71b-4be4-ac25-c26de0b18752",
   "metadata": {},
   "source": [
    "### plot prediction distribution for each algorithm"
   ]
  },
  {
   "cell_type": "code",
   "execution_count": 51,
   "id": "724a03c6-eaac-4349-9200-1323d3a81835",
   "metadata": {},
   "outputs": [
    {
     "data": {
      "image/png": "[encoded data removed]",
      "text/plain": [
       "<Figure size 1000x600 with 4 Axes>"
      ]
     },
     "metadata": {},
     "output_type": "display_data"
    }
   ],
   "source": [
    "fig, ((ax1, ax2), (ax3, ax4)) = plt.subplots(2, 2, sharex=True, sharey=True)\n",
    "fig.suptitle('CPD Algorithm Predictions', y=1, fontsize=16)\n",
    "\n",
    "fig.set_figwidth(10)\n",
    "fig.set_figheight(6)\n",
    "\n",
    "plt.subplots_adjust(hspace = 0.3)\n",
    "plt.gca().yaxis.set_major_formatter(PercentFormatter(xmax=1,  decimals=0))\n",
    "\n",
    "binwidth=10\n",
    "bins = np.linspace(0, 450, 46)\n",
    "mdl  = mdl_list[mdl_idx]\n",
    "\n",
    "temp=binseg_list[mdl_idx]\n",
    "ax1.hist(temp, color='blue', bins=bins,  weights=np.ones(len(temp)) / len(temp))\n",
    "ax1.set_title((\"BinSeg %s\" % mdl), fontsize=14)\n",
    "ax1.axvline(200, c=\"crimson\", label=\"real onset\")\n",
    "\n",
    "temp=pelt_list[mdl_idx]\n",
    "ax2.hist(temp, color='orange', bins=bins,  weights=np.ones(len(temp)) / len(temp))\n",
    "ax2.set_title((\"PELT %s\" % mdl), fontsize=14)\n",
    "ax2.axvline(200, c=\"crimson\", label=\"real onset\")\n",
    "\n",
    "temp=window_list[mdl_idx]\n",
    "ax3.hist(temp, color='gray', bins=bins,  weights=np.ones(len(temp)) / len(temp))\n",
    "ax3.set_title((\"Window %s\" % mdl), fontsize=14)\n",
    "ax3.set_xlabel(\"time (ms)\")\n",
    "ax3.axvline(200, c=\"crimson\", label=\"real onset\")\n",
    "\n",
    "temp = dp_list[mdl_idx]\n",
    "ax4.hist(temp, color='yellow', bins=bins,  weights=np.ones(len(temp)) / len(temp))\n",
    "ax4.set_title( (\"Dynamic Programming %s\" % mdl), fontsize=14)\n",
    "ax4.set_xlabel(\"time (ms)\")\n",
    "ax4.axvline(200, c=\"crimson\", label=\"real onset\")\n",
    "\n",
    "for ax in fig.get_axes():\n",
    "    ax.label_outer()"
   ]
  },
  {
   "cell_type": "markdown",
   "id": "40b649b0-3ae5-4f6f-a98b-71b5a757ceb7",
   "metadata": {},
   "source": [
    "### plot distribution as in (Sassenhagen and Draschkow, 2019)"
   ]
  },
  {
   "cell_type": "code",
   "execution_count": 52,
   "id": "fc482c33-8cb9-4bc1-a1d8-ca87f9826a0d",
   "metadata": {},
   "outputs": [
    {
     "data": {
      "image/png": "[encoded data removed]",
      "text/plain": [
       "<Figure size 1200x600 with 2 Axes>"
      ]
     },
     "metadata": {},
     "output_type": "display_data"
    }
   ],
   "source": [
    "fig, [ax1, ax2] = plt.subplots(ncols=2)\n",
    "fig.set_figwidth(12)\n",
    "fig.set_figheight(6)\n",
    "\n",
    "mdl=mdl_list[mdl_idx]\n",
    "plt.suptitle( (\"BinSeg, %s\" % mdl), fontsize=16)\n",
    "\n",
    "# 10 ms time steps, 10ms bin width\n",
    "binwidth=10\n",
    "bins = np.linspace(0, 450, 46)\n",
    "claims=binseg_list[mdl_idx]\n",
    "\n",
    "ax1.hist(claims,  edgecolor='black', bins=bins,  weights=np.ones(len(claims)) / len(claims))\n",
    "ax1.set_title((\"Onset Detections\"), fontsize=14)\n",
    "ax1.axvline(200, c=\"crimson\", label=\"real onset\")\n",
    "ticks=ax1.get_yticks()\n",
    "ax1.set_yticks(ticks)\n",
    "ticks=ticks*100\n",
    "ticks = [int(v)for v in ticks]\n",
    "ax1.set_yticklabels(ticks);\n",
    "ax1.set_xlabel(\"detection time (ms)\")\n",
    "ax1.set_ylabel(\"percent\")\n",
    "\n",
    "plt.subplots_adjust(wspace = 0.3)\n",
    "total_claims = len(claims) # total number of claims (predictions)\n",
    "\n",
    "ax2.axhline(0.05, c=\"r\", label=\"nominal 5% level\")\n",
    "ax2.set_ylabel(\"underestimations (cumulative %)\")\n",
    "ax2.set_xlabel(\"underestimation of onset (ms)\")\n",
    "ax2.set_xlim([0, 201])\n",
    "ax2.set_xticks(range(10,201,20))\n",
    "\n",
    "# this works better than sns histplot, etc, for reverse cumsum histogram\n",
    "bin_width=10\n",
    "bin_list = list(range(0, 201, bin_width))\n",
    "too_early = [] \n",
    "\n",
    "for data_point in claims:\n",
    "    if data_point < true_onset:\n",
    "        data_point = abs(data_point - true_onset) \n",
    "        too_early.append(data_point)\n",
    "\n",
    "plt.hist(too_early, edgecolor='black', align=\"mid\", cumulative=-1, bins=bin_list, weights=np.ones(len(too_early)) / total_claims)\n",
    "ax2.set_title((\"Too Early\"), fontsize=14)\n",
    "ticks=ax2.get_yticks()\n",
    "ax2.set_yticks(ticks)\n",
    "ticks=ticks*100\n",
    "ticks = [int(v)for v in ticks]\n",
    "ax2.set_yticklabels(ticks);"
   ]
  },
  {
   "cell_type": "code",
   "execution_count": 53,
   "id": "c6fbb714-c2ce-4dbd-9c97-094a814ec471",
   "metadata": {},
   "outputs": [
    {
     "name": "stdout",
     "output_type": "stream",
     "text": [
      "BinSeg          l1: MAE =  67.54 ms, std= 94.71\n",
      "BinSeg          l2: MAE =  54.42 ms, std= 81.60\n",
      "BinSeg      normal: MAE =  14.29 ms, std= 26.40\n",
      "BinSeg         rbf: MAE =  26.31 ms, std= 47.14\n",
      "BinSeg      cosine: MAE =  79.15 ms, std=107.41\n",
      "BinSeg     clinear: MAE = 194.32 ms, std=191.52\n",
      "BinSeg        rank: MAE =  51.63 ms, std= 78.67\n",
      "BinSeg mahalanobis: MAE =  54.42 ms, std= 81.60\n",
      "BinSeg          ar: MAE =  91.41 ms, std=110.38\n",
      "Lowest MAE: 14.29, cost function = normal\n",
      "\n",
      "\n",
      "Pelt          l1: MAE = 183.59 ms, std= 15.42\n",
      "Pelt          l2: MAE = 192.21 ms, std=  4.82\n",
      "Pelt      normal: MAE = 188.41 ms, std= 10.16\n",
      "Pelt         rbf: MAE =  44.72 ms, std= 74.90\n",
      "Pelt      cosine: MAE = 131.66 ms, std= 67.72\n",
      "Pelt     clinear: MAE = 191.48 ms, std=  5.02\n",
      "Pelt        rank: MAE = 147.08 ms, std= 51.90\n",
      "Pelt mahalanobis: MAE = 126.97 ms, std= 64.11\n",
      "Pelt          ar: MAE = 193.66 ms, std=  2.21\n",
      "Lowest MAE: 44.72, cost function = rbf\n",
      "\n",
      "\n",
      "Window          l1: MAE =  75.92 ms, std= 89.82\n",
      "Window          l2: MAE =  72.03 ms, std= 82.11\n",
      "Window      normal: MAE =  40.19 ms, std= 65.69\n",
      "Window         rbf: MAE =  61.41 ms, std= 83.11\n",
      "Window      cosine: MAE =  88.93 ms, std=104.60\n",
      "Window     clinear: MAE = 101.43 ms, std= 86.75\n",
      "Window        rank: MAE =  69.67 ms, std= 85.58\n",
      "Window mahalanobis: MAE =  72.03 ms, std= 82.11\n",
      "Window          ar: MAE =  93.48 ms, std= 76.32\n",
      "Lowest MAE: 40.19, cost function = normal\n",
      "\n",
      "\n",
      "Dynamic Programming          l1: MAE =  67.49 ms, std= 94.74\n",
      "Dynamic Programming          l2: MAE =  54.42 ms, std= 81.60\n",
      "Dynamic Programming      normal: MAE =  14.29 ms, std= 26.40\n",
      "Dynamic Programming         rbf: MAE =  26.31 ms, std= 47.14\n",
      "Dynamic Programming      cosine: MAE =  79.00 ms, std=107.24\n",
      "Dynamic Programming     clinear: MAE = 194.32 ms, std=191.52\n",
      "Dynamic Programming        rank: MAE =  51.63 ms, std= 78.67\n",
      "Dynamic Programming mahalanobis: MAE =  54.42 ms, std= 81.60\n",
      "Dynamic Programming          ar: MAE =  91.41 ms, std=110.38\n",
      "Lowest MAE: 14.29, cost function = normal\n"
     ]
    }
   ],
   "source": [
    "bin_seg_mae_list=[]\n",
    "pelt_seg_mae_list=[]\n",
    "window_seg_mae_list=[]\n",
    "dp_seg_mae_list=[]\n",
    "\n",
    "min_idx=0\n",
    "min_MAE=1000000\n",
    "for ii, preds in enumerate(binseg_list):\n",
    "    mdl = mdl_list[ii]\n",
    "    MAE = get_MAE(preds, true_onset); bin_seg_mae_list.append(MAE)\n",
    "    if MAE < min_MAE:\n",
    "        min_MAE = MAE\n",
    "        min_idx=ii\n",
    "    std = get_std(preds, true_onset)\n",
    "    print(\"BinSeg %11s: MAE = %6.2f ms, std=%6.2f\" % (mdl, MAE, std))\n",
    "print(\"Lowest MAE: %0.2f, cost function = %s\" % (min_MAE, mdl_list[min_idx] )  )\n",
    "\n",
    "print(\"\\n\")\n",
    "min_idx=0\n",
    "min_MAE=1000000\n",
    "for ii, preds in enumerate(pelt_list):\n",
    "    mdl = mdl_list[ii]\n",
    "    MAE = get_MAE(preds, true_onset); pelt_seg_mae_list.append(MAE)\n",
    "    if MAE < min_MAE:\n",
    "        min_MAE = MAE\n",
    "        min_idx=ii\n",
    "    std = get_std(preds, true_onset)\n",
    "    print(\"Pelt %11s: MAE = %6.2f ms, std=%6.2f\" % (mdl, MAE, std) )\n",
    "print(\"Lowest MAE: %0.2f, cost function = %s\" % (min_MAE, mdl_list[min_idx] )  )\n",
    "\n",
    "\n",
    "print(\"\\n\")\n",
    "min_idx=0\n",
    "min_MAE=1000000\n",
    "for ii, preds in enumerate(window_list):\n",
    "    mdl = mdl_list[ii]\n",
    "    MAE = get_MAE(preds, true_onset); window_seg_mae_list.append(MAE)\n",
    "    if MAE < min_MAE:\n",
    "        min_MAE = MAE\n",
    "        min_idx=ii    \n",
    "    std = get_std(preds, true_onset)\n",
    "    print(\"Window %11s: MAE = %6.2f ms, std=%6.2f\" % (mdl, MAE, std) )\n",
    "print(\"Lowest MAE: %0.2f, cost function = %s\" % (min_MAE, mdl_list[min_idx] )  )\n",
    "\n",
    "print(\"\\n\")\n",
    "min_idx=0\n",
    "min_MAE=1000000\n",
    "for ii, preds in enumerate(dp_list):\n",
    "    mdl = mdl_list[ii]\n",
    "    MAE = get_MAE(preds, true_onset); dp_seg_mae_list.append(MAE)\n",
    "    if MAE < min_MAE:\n",
    "        min_MAE = MAE\n",
    "        min_idx=ii   \n",
    "    std = get_std(preds, true_onset)\n",
    "    print(\"Dynamic Programming %11s: MAE = %6.2f ms, std=%6.2f\" % (mdl, MAE, std) )\n",
    "print(\"Lowest MAE: %0.2f, cost function = %s\" % (min_MAE, mdl_list[min_idx] )  )"
   ]
  },
  {
   "cell_type": "code",
   "execution_count": 54,
   "id": "62d6c20f-7e22-4410-8fca-bb3e83b3f1b1",
   "metadata": {},
   "outputs": [
    {
     "name": "stdout",
     "output_type": "stream",
     "text": [
      "\\begin{table}\n",
      "\\caption{Mean Absolute Error (MAE)}\n",
      "\\label{mae-table}\n",
      "\\begin{tabular}{l|rrrrrrrrr}\n",
      " & l1 & l2 & normal & rbf & cosine & clinear & rank & mahalanobis & ar\\\\\n",
      "\\hline\n",
      "Binseg & 67.54 & 54.425 & 14.285 & 26.31 & 79.15 & 194.32 & 51.635 & 54.425 & 91.41 \\\\\n",
      "Pelt & 183.585 & 192.205 & 188.41 & 44.715 & 131.665 & 191.48 & 147.08 & 126.965 & 193.665 \\\\\n",
      "Window & 75.915 & 72.03 & 40.19 & 61.405 & 88.93 & 101.43 & 69.675 & 72.03 & 93.485 \\\\\n",
      "Dyn Prog & 67.49 & 54.425 & 14.285 & 26.31 & 79.0 & 194.32 & 51.635 & 54.425 & 91.41 \\\\\n",
      "\\hline\n",
      "\\end{tabular}\n",
      "\\end{table}\n"
     ]
    }
   ],
   "source": [
    "headers = mdl_list\n",
    "data = dict()\n",
    "data[\"Binseg\"]   = bin_seg_mae_list\n",
    "data[\"Pelt\"]     = pelt_seg_mae_list\n",
    "data[\"Window\"]   = window_seg_mae_list\n",
    "data[\"Dyn Prog\"] = dp_seg_mae_list\n",
    "\n",
    "textabular = f\"l|{'r'*len(headers)}\"\n",
    "texheader = \" & \" + \" & \".join(headers) + \"\\\\\\\\\"\n",
    "texdata = \"\\\\hline\\n\"\n",
    "for label in data:\n",
    "    texdata += f\"{label} & {' & '.join(map(str,data[label]))} \\\\\\\\\\n\"\n",
    "    if label == \"Dyn Prog\":\n",
    "        texdata += \"\\\\hline\\n\"\n",
    "\n",
    "print(\"\\\\begin{table}\")\n",
    "print(\"\\\\caption{Mean Absolute Error (MAE)}\")\n",
    "print(\"\\label{mae-table}\")\n",
    "print(\"\\\\begin{tabular}{\"+textabular+\"}\")\n",
    "print(texheader)\n",
    "print(texdata, end=\"\")\n",
    "print(\"\\\\end{tabular}\")\n",
    "print(\"\\\\end{table}\")\n"
   ]
  },
  {
   "cell_type": "code",
   "execution_count": null,
   "id": "78f22055-c69e-41ea-88dc-bdf79740bdd6",
   "metadata": {},
   "outputs": [],
   "source": []
  }
 ],
 "metadata": {
  "kernelspec": {
   "display_name": "Python 3 (ipykernel)",
   "language": "python",
   "name": "python3"
  },
  "language_info": {
   "codemirror_mode": {
    "name": "ipython",
    "version": 3
   },
   "file_extension": ".py",
   "mimetype": "text/x-python",
   "name": "python",
   "nbconvert_exporter": "python",
   "pygments_lexer": "ipython3",
   "version": "3.10.12"
  }
 },
 "nbformat": 4,
 "nbformat_minor": 5
}
