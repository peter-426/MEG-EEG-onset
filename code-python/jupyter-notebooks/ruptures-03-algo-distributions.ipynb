{
 "cells": [
  {
   "cell_type": "markdown",
   "id": "bb675a16-7bf8-4210-b933-967335618bc1",
   "metadata": {},
   "source": [
    "### optimised algorithms for change point detection (v3) \n",
    "\n",
    "#### Python package ruptures \n",
    "\n",
    "#### simulation using simulated data, gridsearch for optimal parameters\n",
    "\n",
    "author: peter\n",
    "\n",
    "date: 2024"
   ]
  },
  {
   "cell_type": "markdown",
   "id": "e8efc5ed-6a9e-4ece-b1da-225fd253f5d4",
   "metadata": {},
   "source": [
    "Ruptures: \n",
    "\n",
    "C. Truong, L. Oudre, N. Vayatis. Selective review of offline change point detection methods. Signal Processing, 167:107299, 2020.\n",
    "\n",
    "<li> https://centre-borelli.github.io/ruptures-docs/\n",
    "<li> https://github.com/deepcharles/ruptures\n",
    "<li> https://centre-borelli.github.io/ruptures-docs/user-guide/detection/\n",
    "<li> see also https://schuetzgroup.github.io/sdt-python/changepoint.html\n",
    "\n",
    "<br><br>\n",
    "\n",
    "Algorithms: Binseg, Pelt, Window, Dynp, KernelCPD, BottomUp\n",
    "\n",
    "Cost functions: (TO DO: add linear)<br>\n",
    "mdl_list =['l1', 'l2', 'normal', 'rbf', 'cosine', 'clinear', 'rank', 'mahalanobis', 'ar']\n",
    "<br>\n",
    "#### simulation \n",
    "for each algorithm:<br>\n",
    "&nbsp; set_seed(12345)<br>\n",
    "&nbsp; for each trial:<br>\n",
    "&nbsp; &nbsp; &nbsp; generate a new simulated dataset<br>\n",
    "&nbsp; &nbsp; &nbsp; for each cost_function in cost_function_set:<br>\n",
    "&nbsp; &nbsp; &nbsp; &nbsp; &nbsp; test algorithm<br>\n",
    "<br>\n",
    "evaluate performance according to metrics<br>\n",
    "generate report\n",
    "\n",
    "<br><br>\n",
    "metrics to compare algorithm performance:\n",
    "<li>percent too early\n",
    "<li>percent too late\n",
    "<li>bias\n",
    "<li>MAE\n",
    "<li>variance\n",
    "<li>FDR"
   ]
  },
  {
   "cell_type": "code",
   "execution_count": 9,
   "id": "2c52712b-bcf8-4ffe-879d-c583e994d911",
   "metadata": {},
   "outputs": [],
   "source": [
    "import matplotlib.pylab as plt\n",
    "import ruptures as rpt\n",
    "import h5py\n",
    "import numpy as np\n",
    "import pandas as pd\n",
    "import seaborn as sns\n",
    "from matplotlib.ticker import PercentFormatter"
   ]
  },
  {
   "cell_type": "markdown",
   "id": "e2ed8a82-ce6c-4439-afe9-8bf810d4a968",
   "metadata": {},
   "source": [
    "### set simulation parameters"
   ]
  },
  {
   "cell_type": "code",
   "execution_count": 10,
   "id": "f47d7716-1658-4d0f-9a57-9ba42188175e",
   "metadata": {},
   "outputs": [],
   "source": [
    "# set simulation parameters\n",
    "#\n",
    "my_rand_seed = 12345\n",
    "\n",
    "margin=10   # margin of error for false discovery rate (fdr): FP/(TP+FP)\n",
    "            # when detection is too late, e.g. > 10ms after true onset time\n",
    "\n",
    "num_signals = 1000  # number of trials in simulation\n",
    "\n",
    "mu, sigma = 0, 3 # mean and standard deviation for simulated data generation\n",
    "mu2, sigma2 = mu + 1, sigma + 1\n",
    "\n",
    "n_bkps=1\n",
    "true_onset=200\n",
    "\n",
    "times = np.arange(0, 451, 1).tolist()\n",
    "\n",
    "# A new Pelt algorithm object must created for each trial.\n",
    "# This might also be true for other algorithm implementations.\n",
    "# Negligible performance hit, so no need to optimise.\n",
    "\n",
    "# some algs can't use 'linear' cost function, not enough dimensions.\n",
    "mdl_list =['l1', 'l2', 'normal', 'rbf', 'cosine', 'clinear', 'rank', 'mahalanobis', 'ar']"
   ]
  },
  {
   "cell_type": "markdown",
   "id": "9474d260-26ab-47e6-83ab-06d935c8cea8",
   "metadata": {},
   "source": [
    "### simulated data generation\n",
    "Every algorithm - parameter set will process the same random set of signals."
   ]
  },
  {
   "cell_type": "code",
   "execution_count": 11,
   "id": "687a6fbf-3ff3-403e-b44e-6e9d65701530",
   "metadata": {},
   "outputs": [],
   "source": [
    "def make_data(mu, sigma, mu2, sigma2, true_onset, rng):\n",
    "    s1 = rng.normal(mu, sigma, true_onset-1)\n",
    "    s2 = rng.normal(mu2, sigma2, 251)\n",
    "    signal= np.array(list(s1) + list(s2))\n",
    "    return signal"
   ]
  },
  {
   "cell_type": "markdown",
   "id": "fe9f41bd-81f8-43bf-8f5a-919fdf96cd6f",
   "metadata": {},
   "source": [
    "### Binseg\n",
    "https://dev.ipol.im/~truong/ruptures-docs/build/html/_modules/ruptures/detection/binseg.html <br>\n",
    "\n",
    "algorithm defaults: model='l2', custom_cost=None, min_size=2, jump=5, params=None"
   ]
  },
  {
   "cell_type": "code",
   "execution_count": null,
   "id": "e9814383-4752-45df-a579-6f81f8fbb17d",
   "metadata": {},
   "outputs": [],
   "source": [
    "binseg_list = []\n",
    "\n",
    "for mdl in mdl_list:\n",
    "    binseg_predictions = []\n",
    "    rng = np.random.default_rng(my_rand_seed)  \n",
    "    \n",
    "    for ii in range(num_signals):\n",
    "        # generate signal\n",
    "        signal = make_data(mu, sigma, mu2, sigma2, true_onset, rng)\n",
    "    \n",
    "        # Binseg algorithm\n",
    "        algo = rpt.Binseg(model=mdl, custom_cost=None, min_size=2, jump=5, params=None).fit(signal)\n",
    "        est_onset = algo.predict(n_bkps=n_bkps)\n",
    "        binseg_predictions.append(est_onset[0])\n",
    "    binseg_list.append(binseg_predictions)"
   ]
  },
  {
   "cell_type": "markdown",
   "id": "96224220-640c-48a6-a337-8de4b29df75b",
   "metadata": {},
   "source": [
    "### Pelt\n",
    "https://dev.ipol.im/~truong/ruptures-docs/build/html/detection/pelt.html<br>\n",
    "<br>\n",
    "algorithm defaults: model='l2', custom_cost=None, min_size=2, jump=5, params=None"
   ]
  },
  {
   "cell_type": "code",
   "execution_count": 13,
   "id": "3d159496-faa1-48e5-b416-4a13ce8d25d8",
   "metadata": {},
   "outputs": [],
   "source": [
    "\n",
    "pelt_list = []\n",
    "\n",
    "for mdl in mdl_list:\n",
    "    pelt_predictions = []\n",
    "    rng = np.random.default_rng(my_rand_seed)\n",
    "    \n",
    "    for ii in range(num_signals):\n",
    "        # generate signal\n",
    "        signal = make_data(mu, sigma, mu2, sigma2, true_onset, rng)\n",
    "        \n",
    "        # Pelt algorithm\n",
    "        algo = rpt.Pelt(model=mdl, custom_cost=None, min_size=2, jump=5, params=None).fit(signal)\n",
    "        est_onset = algo.predict(pen=2)           # penalty 1 --> early, 10 --> late\n",
    "        pelt_predictions.append(est_onset[0])\n",
    "    pelt_list.append(pelt_predictions)"
   ]
  },
  {
   "cell_type": "markdown",
   "id": "f16e9403-8f5b-409b-9d6d-6be05d8f71db",
   "metadata": {},
   "source": [
    "### Window sliding segmentation\n",
    "https://dev.ipol.im/~truong/ruptures-docs/build/html/detection/window.html<br>\n",
    "<br>\n",
    "algorithm defaults: width=100, model='l2', custom_cost=None, min_size=2, jump=5, params=None"
   ]
  },
  {
   "cell_type": "code",
   "execution_count": 14,
   "id": "e7211957-8bc8-4749-ba82-59dab9f83f41",
   "metadata": {},
   "outputs": [],
   "source": [
    "\n",
    "window_list = []\n",
    "\n",
    "for mdl in mdl_list:\n",
    "    window_predictions = []\n",
    "    rng = np.random.default_rng(my_rand_seed)\n",
    "    \n",
    "    for ii in range(num_signals):\n",
    "        # generate signal\n",
    "        signal = make_data(mu, sigma, mu2, sigma2, true_onset, rng)\n",
    "        \n",
    "        # window algorithm\n",
    "        algo = rpt.Window(width=100, model=mdl, custom_cost=None, min_size=2, jump=5).fit(signal)\n",
    "        est_onset = algo.predict(n_bkps=n_bkps)\n",
    "        window_predictions.append(est_onset[0])\n",
    "    window_list.append(window_predictions)"
   ]
  },
  {
   "cell_type": "markdown",
   "id": "a7154b6e-2873-4402-8869-ddfa9f9958aa",
   "metadata": {},
   "source": [
    "### Dynamic Programming\n",
    "https://dev.ipol.im/~truong/ruptures-docs/build/html/detection/dynp.html<br>\n",
    "<br>\n",
    "algorithm defaults: model='l2', custom_cost=None, min_size=2, jump=5, params=None"
   ]
  },
  {
   "cell_type": "code",
   "execution_count": 15,
   "id": "c29086d6-4c46-4743-b8d7-56c262df81ba",
   "metadata": {},
   "outputs": [],
   "source": [
    "dp_list = []\n",
    "\n",
    "for mdl in mdl_list:\n",
    "    dp_predictions = []\n",
    "    rng = np.random.default_rng(my_rand_seed)\n",
    "    \n",
    "    for ii in range(num_signals):\n",
    "        # generate signal\n",
    "        signal = make_data(mu, sigma, mu2, sigma2, true_onset, rng)\n",
    "        \n",
    "        # Dynamic programming algorithm\n",
    "        algo = rpt.Dynp(model=mdl, custom_cost=None, min_size=2, jump=5).fit(signal)\n",
    "        est_onset = algo.predict(n_bkps=n_bkps)\n",
    "        dp_predictions.append(est_onset[0])\n",
    "    dp_list.append(dp_predictions)"
   ]
  },
  {
   "cell_type": "markdown",
   "id": "230b3ea1-4d25-4554-9d90-dcc3425ee221",
   "metadata": {},
   "source": [
    "##### KernelCPD\n",
    "Efficient kernel change point detection<br>\n",
    "Available kernels: linear, rbf, cosine <br>\n",
    "<br>\n",
    "algorithm defaults: kernel='linear', min_size=2, jump=5, params=None"
   ]
  },
  {
   "cell_type": "code",
   "execution_count": 16,
   "id": "33b23eda-0b76-42c1-aa3f-0a8ddb427d5b",
   "metadata": {},
   "outputs": [],
   "source": [
    "kernelCPD_list = []\n",
    "\n",
    "kernel_mdl_list = ['linear', 'rbf', 'cosine']\n",
    "\n",
    "for mdl in kernel_mdl_list:\n",
    "    kernel_predictions = []\n",
    "    rng = np.random.default_rng(my_rand_seed)\n",
    "    \n",
    "    for ii in range(num_signals):\n",
    "        # generate signal\n",
    "        signal = make_data(mu, sigma, mu2, sigma2, true_onset, rng)\n",
    "        \n",
    "        # kernelCPD\n",
    "        algo = rpt.KernelCPD(kernel=mdl, min_size=2, jump=5, params=None).fit(signal)  # fast, written in C\n",
    "        est_onset = algo.predict(n_bkps=n_bkps)\n",
    "        kernel_predictions.append(est_onset[0])\n",
    "    kernelCPD_list.append(kernel_predictions)"
   ]
  },
  {
   "cell_type": "markdown",
   "id": "6a634530-1ca1-4efb-b7d8-8c00d3387aef",
   "metadata": {},
   "source": [
    "### Bottom up\n",
    "https://dev.ipol.im/~truong/ruptures-docs/build/html/detection/bottomup.html<br>\n",
    "available models = l1, l2, rbf <br>\n",
    "algorithm defaults: model='l2', custom_cost=None, min_size=2, jump=5, params=None <br>\n",
    "predict defaults: n_bkps=None, pen=None, epsilon=None"
   ]
  },
  {
   "cell_type": "code",
   "execution_count": 17,
   "id": "36506b88-f3b8-44e8-80a6-902c6de314ad",
   "metadata": {},
   "outputs": [],
   "source": [
    "bottomUp_list = []\n",
    "\n",
    "bottomUp_mdl_list = ['l1', 'l2', 'rbf'] # dims must be > 1 to use linear\n",
    "\n",
    "for mdl in bottomUp_mdl_list:\n",
    "    bottomUp_predictions = []\n",
    "    rng = np.random.default_rng(my_rand_seed)\n",
    "    \n",
    "    for ii in range(num_signals):\n",
    "        # generate signal\n",
    "        signal = make_data(mu, sigma, mu2, sigma2, true_onset, rng)\n",
    "        \n",
    "        # BottomUp\n",
    "        algo = rpt.BottomUp(model=mdl, custom_cost=None, min_size=2, jump=5, params=None).fit(signal)  # written in C\n",
    "        est_onset = algo.predict(n_bkps=n_bkps, pen=None)\n",
    "        bottomUp_predictions.append(est_onset[0])\n",
    "    bottomUp_list.append(bottomUp_predictions)"
   ]
  },
  {
   "cell_type": "markdown",
   "id": "d821abef-99d4-45a1-b034-d7bd582696f7",
   "metadata": {},
   "source": [
    "### helper functions"
   ]
  },
  {
   "cell_type": "code",
   "execution_count": 19,
   "id": "4f305d81-2893-4885-a3e8-568687b4290c",
   "metadata": {},
   "outputs": [],
   "source": [
    "def get_too_early(predictions, true_onset):\n",
    "    too_early = predictions[predictions < true_onset]\n",
    "    too_early = np.abs(too_early - true_onset)\n",
    "    return too_early\n",
    "\n",
    "\n",
    "def get_pct_too_early(predictions, true_onset):\n",
    "    too_early = predictions[predictions < true_onset]\n",
    "    pct_too_early = len(too_early)/len(predictions)\n",
    "    return pct_too_early\n",
    "\n",
    "\n",
    "def get_MAE(predictions, true_onset):\n",
    "    MAE = np.mean(np.abs(predictions - true_onset))\n",
    "    return MAE\n",
    "\n",
    "\n",
    "def get_std(predictions, true_onset):\n",
    "    std = np.std(predictions)\n",
    "    return std\n",
    "\n",
    "def get_variance(predictions, true_onset):\n",
    "    var = np.var(predictions)\n",
    "    return var\n",
    "\n",
    "def get_fdr(predictions, true_onset, margin):\n",
    "    errors = predictions - true_onset\n",
    "    early_count = sum(errors < 0)      # FP\n",
    "    late_count = sum(errors > margin)  # FP\n",
    "    fdr = (early_count + late_count)/len(predictions)\n",
    "    return fdr\n",
    "\n",
    "def get_bias(predictions, true_onset):\n",
    "    bias=np.mean(predictions) - true_onset\n",
    "    return bias\n",
    "\n",
    "\n",
    "# precision = TP/(TP + FP)\n",
    "def get_precision(predictions, true_onset, margin):\n",
    "    errors = predictions - true_onset\n",
    "    early_count = sum(errors < 0)      # FP\n",
    "    late_count = sum(errors > margin)  # FP\n",
    "    precision = (len(predictions) - (early_count + late_count))/len(predictions)\n",
    "    return precision\n",
    "\n",
    "\n",
    "# Same as precision if one onset prediction for each \n",
    "# time series where each time series has one true onset.\n",
    "# Not really any FNs by definition because FNs == FPs.\n",
    "#\n",
    "# recall = TP/(TP+FN)\n",
    "def get_recall(predictions, margin):\n",
    "    errors = predictions - true_onset\n",
    "    early_count = sum(errors < 0)      # FP\n",
    "    late_count = sum(errors > margin)  # FP\n",
    "    recall = (len(predictions) - (early_count + late_count))/len(predictions)\n",
    "    return recall\n",
    "\n",
    "# F1 = 2 * (precision * recall) / (precision + recall). \n",
    "def get_f1(precision, recall):\n",
    "    F1 = 2 * (precision * recall) / (precision + recall)\n",
    "    return F1\n",
    "\n",
    "def plot_predictions(predictions, title):\n",
    "    pass\n"
   ]
  },
  {
   "cell_type": "markdown",
   "id": "4251802b-92c6-450b-9e96-a798a0fd7cc8",
   "metadata": {},
   "source": [
    "### choose model index for plotting [0..8]\n",
    "mdl_list =['l1', 'l2', 'normal', 'rbf', 'cosine', 'clinear', 'rank', 'mahalanobis', 'ar']"
   ]
  },
  {
   "cell_type": "code",
   "execution_count": 20,
   "id": "4b974ce1-809a-47df-b6a8-d3d70271f912",
   "metadata": {},
   "outputs": [],
   "source": [
    "mdl_idx=3"
   ]
  },
  {
   "cell_type": "markdown",
   "id": "ba1357a9-c71b-4be4-ac25-c26de0b18752",
   "metadata": {},
   "source": [
    "### plot detection distribution for each algorithm"
   ]
  },
  {
   "cell_type": "code",
   "execution_count": 22,
   "id": "724a03c6-eaac-4349-9200-1323d3a81835",
   "metadata": {},
   "outputs": [
    {
     "data": {
      "image/png": "[encoded data removed]",
      "text/plain": [
       "<Figure size 1000x600 with 4 Axes>"
      ]
     },
     "metadata": {},
     "output_type": "display_data"
    }
   ],
   "source": [
    "fig, ((ax1, ax2), (ax3, ax4)) = plt.subplots(2, 2, sharex=True, sharey=True)\n",
    "fig.suptitle('CPD Algorithm predictions', y=1, fontsize=16)\n",
    "\n",
    "fig.set_figwidth(10)\n",
    "fig.set_figheight(6)\n",
    "\n",
    "plt.subplots_adjust(hspace = 0.3)\n",
    "plt.gca().yaxis.set_major_formatter(PercentFormatter(xmax=1,  decimals=0))\n",
    "\n",
    "binwidth=10\n",
    "bins = np.linspace(0, 450, 46)\n",
    "mdl  = mdl_list[mdl_idx]\n",
    "\n",
    "preds=binseg_list[mdl_idx]\n",
    "ax1.hist(preds, color='blue', bins=bins,  weights=np.ones(len(preds)) / len(preds))\n",
    "ax1.set_title((\"BinSeg %s\" % mdl), fontsize=14)\n",
    "ax1.axvline(200, c=\"crimson\", label=\"real onset\")\n",
    "\n",
    "preds=pelt_list[mdl_idx]\n",
    "ax2.hist(preds, color='orange', bins=bins,  weights=np.ones(len(preds)) / len(preds))\n",
    "ax2.set_title((\"PELT %s\" % mdl), fontsize=14)\n",
    "ax2.axvline(200, c=\"crimson\", label=\"real onset\")\n",
    "\n",
    "preds=window_list[mdl_idx]\n",
    "ax3.hist(preds, color='gray', bins=bins,  weights=np.ones(len(preds)) / len(preds))\n",
    "ax3.set_title((\"Window %s\" % mdl), fontsize=14)\n",
    "ax3.set_xlabel(\"time (ms)\")\n",
    "ax3.axvline(200, c=\"crimson\", label=\"real onset\")\n",
    "\n",
    "preds = dp_list[mdl_idx]\n",
    "ax4.hist(preds, color='yellow', bins=bins,  weights=np.ones(len(preds)) / len(preds))\n",
    "ax4.set_title( (\"Dynamic Programming %s\" % mdl), fontsize=14)\n",
    "ax4.set_xlabel(\"time (ms)\")\n",
    "ax4.axvline(200, c=\"crimson\", label=\"real onset\")\n",
    "\n",
    "for ax in fig.get_axes():\n",
    "    ax.label_outer()"
   ]
  },
  {
   "cell_type": "markdown",
   "id": "8a8c884a-c036-4497-91ec-7f3e1deefd14",
   "metadata": {},
   "source": [
    "### plot distribution of predictions for each algorithm as in (Sassenhagen and Draschkow, 2019)"
   ]
  },
  {
   "cell_type": "code",
   "execution_count": 23,
   "id": "fc482c33-8cb9-4bc1-a1d8-ca87f9826a0d",
   "metadata": {},
   "outputs": [
    {
     "data": {
      "image/png": "[encoded data removed]",
      "text/plain": [
       "<Figure size 1200x600 with 2 Axes>"
      ]
     },
     "metadata": {},
     "output_type": "display_data"
    }
   ],
   "source": [
    "fig, [ax1, ax2] = plt.subplots(ncols=2)\n",
    "fig.set_figwidth(12)\n",
    "fig.set_figheight(6)\n",
    "\n",
    "mdl=mdl_list[mdl_idx]\n",
    "plt.suptitle( (\"BinSeg, %s\" % mdl), fontsize=16)\n",
    "\n",
    "# 10 ms time steps, 10ms bin width\n",
    "binwidth=10\n",
    "bins = np.linspace(0, 450, 46)\n",
    "predictions=binseg_list[mdl_idx]\n",
    "\n",
    "ax1.hist(predictions,  edgecolor='black', bins=bins,  weights=np.ones(len(predictions)) / len(predictions))\n",
    "ax1.set_title((\"Onset predictions\"), fontsize=14)\n",
    "ax1.axvline(200, c=\"crimson\", label=\"real onset\")\n",
    "ticks=ax1.get_yticks()\n",
    "ax1.set_yticks(ticks)\n",
    "ticks=ticks*100\n",
    "ticks = [int(v)for v in ticks]\n",
    "ax1.set_yticklabels(ticks);\n",
    "ax1.set_xlabel(\"detection time (ms)\")\n",
    "ax1.set_ylabel(\"percent\")\n",
    "\n",
    "plt.subplots_adjust(wspace = 0.3)\n",
    "total_predictions = len(predictions) # total number of predictions (predictions)\n",
    "\n",
    "ax2.axhline(0.05, c=\"r\", label=\"nominal 5% level\")\n",
    "ax2.set_ylabel(\"underestimations (cumulative %)\")\n",
    "ax2.set_xlabel(\"underestimation of onset (ms)\")\n",
    "ax2.set_xlim([0, 201])\n",
    "ax2.set_xticks(range(10,201,20))\n",
    "\n",
    "# this works better than sns histplot, etc, for reverse cumsum histogram\n",
    "bin_width=10\n",
    "bin_list = list(range(0, 201, bin_width))\n",
    "too_early = [] \n",
    "\n",
    "for data_point in predictions:\n",
    "    if data_point < true_onset:\n",
    "        data_point = abs(data_point - true_onset) \n",
    "        too_early.append(data_point)\n",
    "\n",
    "plt.hist(too_early, edgecolor='black', align=\"mid\", cumulative=-1, bins=bin_list, weights=np.ones(len(too_early)) / total_predictions)\n",
    "ax2.set_title((\"Too Early\"), fontsize=14)\n",
    "ticks=ax2.get_yticks()\n",
    "ax2.set_yticks(ticks)\n",
    "ticks=ticks*100\n",
    "ticks = [int(v)for v in ticks]\n",
    "ax2.set_yticklabels(ticks);"
   ]
  },
  {
   "cell_type": "markdown",
   "id": "0e8ed5c1-8bc1-4ffd-b269-c9f12939589f",
   "metadata": {},
   "source": [
    "### Report performance\n",
    "<li>mean absolute error (MAE)\n",
    "<li>variance (var)\n",
    "<li>bias\n",
    "<li>false discovery rate (fdr)"
   ]
  },
  {
   "cell_type": "code",
   "execution_count": 24,
   "id": "0dc5d672-6238-4884-814e-3c46b58996b4",
   "metadata": {},
   "outputs": [],
   "source": [
    "def report_performance(prediction_lists, mdl_list, algo_name):\n",
    "    min_idx=0\n",
    "    min_MAE=1000000\n",
    "    pred_mae_list=[]\n",
    "    for ii, preds in enumerate(prediction_lists):\n",
    "        mdl = mdl_list[ii]\n",
    "        preds = np.array(preds)\n",
    "        MAE = get_MAE(preds, true_onset); \n",
    "        pred_mae_list.append(MAE)\n",
    "        if MAE < min_MAE:\n",
    "            min_MAE = MAE\n",
    "            min_idx=ii\n",
    "        var = get_variance(preds, true_onset)\n",
    "        bias = get_bias(preds, true_onset)\n",
    "        fdr = get_fdr(preds, true_onset, margin)\n",
    "        print(\"%11s %11s: MAE = %6.2f ms, var=%8.2f, bias=%6.2f, fdr=%6.2f\" % (algo_name, mdl, MAE, var, bias, fdr))\n",
    "    print(\"Lowest MAE: %0.2f, cost function = %s\" % (min_MAE, mdl_list[min_idx] )  )\n",
    "    return pred_mae_list"
   ]
  },
  {
   "cell_type": "code",
   "execution_count": 25,
   "id": "0b6c7bb8-4964-4eb9-addc-9118757542a8",
   "metadata": {},
   "outputs": [
    {
     "name": "stdout",
     "output_type": "stream",
     "text": [
      "     BinSeg          l1: MAE =  67.54 ms, var= 8969.24, bias= 26.23, fdr=  0.84\n",
      "     BinSeg          l2: MAE =  54.42 ms, var= 6658.02, bias= 25.75, fdr=  0.77\n",
      "     BinSeg      normal: MAE =  14.29 ms, var=  697.12, bias=  1.31, fdr=  0.54\n",
      "     BinSeg         rbf: MAE =  26.31 ms, var= 2222.35, bias=  7.46, fdr=  0.65\n",
      "     BinSeg      cosine: MAE =  79.15 ms, var=11536.98, bias= 11.33, fdr=  0.89\n",
      "     BinSeg     clinear: MAE = 194.32 ms, var=36681.43, bias= 54.87, fdr=  1.00\n",
      "     BinSeg        rank: MAE =  51.63 ms, var= 6188.73, bias= 17.37, fdr=  0.79\n",
      "     BinSeg mahalanobis: MAE =  54.42 ms, var= 6658.02, bias= 25.75, fdr=  0.77\n",
      "     BinSeg          ar: MAE =  91.41 ms, var=12183.93, bias= 51.65, fdr=  0.86\n",
      "Lowest MAE: 14.29, cost function = normal\n",
      "\n",
      "\n",
      "       Pelt          l1: MAE = 183.59 ms, var=  237.82, bias=-183.59, fdr=  1.00\n",
      "       Pelt          l2: MAE = 192.21 ms, var=   23.21, bias=-192.21, fdr=  1.00\n",
      "       Pelt      normal: MAE = 188.41 ms, var=  103.17, bias=-188.41, fdr=  1.00\n",
      "       Pelt         rbf: MAE =  44.72 ms, var= 5609.52, bias= -5.09, fdr=  0.70\n",
      "       Pelt      cosine: MAE = 131.66 ms, var= 4586.07, bias=-125.64, fdr=  0.97\n",
      "       Pelt     clinear: MAE = 191.48 ms, var=   25.21, bias=-191.48, fdr=  1.00\n",
      "       Pelt        rank: MAE = 147.08 ms, var= 2693.71, bias=-146.09, fdr=  0.99\n",
      "       Pelt mahalanobis: MAE = 126.97 ms, var= 4110.47, bias=-124.78, fdr=  0.95\n",
      "       Pelt          ar: MAE = 193.66 ms, var=    4.89, bias=-193.66, fdr=  1.00\n",
      "Lowest MAE: 44.72, cost function = rbf\n",
      "\n",
      "\n",
      "     Window          l1: MAE =  75.92 ms, var= 8067.00, bias= 38.31, fdr=  0.86\n",
      "     Window          l2: MAE =  72.03 ms, var= 6741.78, bias= 47.84, fdr=  0.84\n",
      "     Window      normal: MAE =  40.19 ms, var= 4315.40, bias=  7.89, fdr=  0.70\n",
      "     Window         rbf: MAE =  61.41 ms, var= 6907.34, bias= 25.29, fdr=  0.78\n",
      "     Window      cosine: MAE =  88.93 ms, var=10941.44, bias= 31.03, fdr=  0.91\n",
      "     Window     clinear: MAE = 101.43 ms, var= 7525.61, bias= 75.38, fdr=  0.97\n",
      "     Window        rank: MAE =  69.67 ms, var= 7324.03, bias= 34.34, fdr=  0.84\n",
      "     Window mahalanobis: MAE =  72.03 ms, var= 6741.78, bias= 47.84, fdr=  0.84\n",
      "     Window          ar: MAE =  93.48 ms, var= 5824.17, bias= 81.26, fdr=  0.91\n",
      "Lowest MAE: 40.19, cost function = normal\n",
      "\n",
      "\n",
      "Dynamic Programming          l1: MAE =  67.49 ms, var= 8975.23, bias= 26.06, fdr=  0.84\n",
      "Dynamic Programming          l2: MAE =  54.42 ms, var= 6658.02, bias= 25.75, fdr=  0.77\n",
      "Dynamic Programming      normal: MAE =  14.29 ms, var=  697.12, bias=  1.31, fdr=  0.54\n",
      "Dynamic Programming         rbf: MAE =  26.31 ms, var= 2222.35, bias=  7.46, fdr=  0.65\n",
      "Dynamic Programming      cosine: MAE =  79.00 ms, var=11499.45, bias= 10.02, fdr=  0.89\n",
      "Dynamic Programming     clinear: MAE = 194.32 ms, var=36681.43, bias= 54.87, fdr=  1.00\n",
      "Dynamic Programming        rank: MAE =  51.63 ms, var= 6188.73, bias= 17.37, fdr=  0.79\n",
      "Dynamic Programming mahalanobis: MAE =  54.42 ms, var= 6658.02, bias= 25.75, fdr=  0.77\n",
      "Dynamic Programming          ar: MAE =  91.41 ms, var=12183.93, bias= 51.65, fdr=  0.86\n",
      "Lowest MAE: 14.29, cost function = normal\n",
      "\n",
      "\n",
      "  KernelCPD      linear: MAE =  59.26 ms, var= 7613.89, bias= 31.66, fdr=  0.84\n",
      "  KernelCPD         rbf: MAE =  27.94 ms, var= 2514.38, bias=  8.99, fdr=  0.74\n",
      "  KernelCPD      cosine: MAE =  85.48 ms, var=13308.42, bias= 13.09, fdr=  0.92\n",
      "Lowest MAE: 27.94, cost function = rbf\n",
      "\n",
      "\n",
      "   BottomUp          l1: MAE =  74.02 ms, var= 7829.97, bias= 45.28, fdr=  0.84\n",
      "   BottomUp          l2: MAE =  73.36 ms, var= 6635.53, bias= 58.67, fdr=  0.81\n",
      "   BottomUp         rbf: MAE =  47.77 ms, var= 4789.46, bias= 18.80, fdr=  0.77\n",
      "Lowest MAE: 47.77, cost function = rbf\n",
      "\n",
      "\n"
     ]
    }
   ],
   "source": [
    "\n",
    "algo_name=\"BinSeg\"\n",
    "binseg_mae_list=report_performance(binseg_list, mdl_list, algo_name)\n",
    "print(\"\\n\")\n",
    "algo_name=\"Pelt\"\n",
    "pelt_mae_list = report_performance(pelt_list, mdl_list, algo_name)\n",
    "print(\"\\n\")\n",
    "algo_name=\"Window\"\n",
    "window_mae_list = report_performance(window_list, mdl_list, algo_name)\n",
    "print(\"\\n\")\n",
    "algo_name=\"Dynamic Programming\"\n",
    "dp_mae_list = report_performance(dp_list, mdl_list, algo_name)\n",
    "print(\"\\n\")\n",
    "algo_name=\"KernelCPD\"\n",
    "kernel_mae_list = report_performance(kernelCPD_list, kernel_mdl_list, algo_name)\n",
    "print(\"\\n\")\n",
    "algo_name=\"BottomUp\"\n",
    "bottomUp_mae_list = report_performance(bottomUp_list, bottomUp_mdl_list, algo_name)\n",
    "print(\"\\n\")"
   ]
  },
  {
   "cell_type": "markdown",
   "id": "939cd145-a943-4142-a4a4-cb263b1e5c2d",
   "metadata": {},
   "source": [
    "### make table using latex"
   ]
  },
  {
   "cell_type": "code",
   "execution_count": 27,
   "id": "62d6c20f-7e22-4410-8fca-bb3e83b3f1b1",
   "metadata": {},
   "outputs": [
    {
     "name": "stdout",
     "output_type": "stream",
     "text": [
      "\\begin{table}\n",
      "\\caption{Mean Absolute Error (MAE)}\n",
      "\\label{mae-table}\n",
      "\\begin{tabular}{l|rrrrrrrrr}\n",
      " & l1 & l2 & normal & rbf & cosine & clinear & rank & mahalanobis & ar\\\\\n",
      "\\hline\n",
      "Binseg & 67.54 & 54.425 & 14.285 & 26.31 & 79.15 & 194.32 & 51.635 & 54.425 & 91.41 \\\\\n",
      "Pelt & 183.585 & 192.205 & 188.41 & 44.715 & 131.665 & 191.48 & 147.08 & 126.965 & 193.665 \\\\\n",
      "Window & 75.915 & 72.03 & 40.19 & 61.405 & 88.93 & 101.43 & 69.675 & 72.03 & 93.485 \\\\\n",
      "Dyn Prog & 67.49 & 54.425 & 14.285 & 26.31 & 79.0 & 194.32 & 51.635 & 54.425 & 91.41 \\\\\n",
      "\\end{tabular}\n",
      "\\end{table}\n"
     ]
    }
   ],
   "source": [
    "headers = mdl_list\n",
    "data = dict()\n",
    "data[\"Binseg\"]   = binseg_mae_list\n",
    "data[\"Pelt\"]     = pelt_mae_list\n",
    "data[\"Window\"]   = window_mae_list\n",
    "data[\"Dyn Prog\"] = dp_mae_list\n",
    "#data[\"KernelCPD\"] = kernel_mae_list\n",
    "#data[\"BottonUp\"]  = bottomUp_mae_list\n",
    "\n",
    "textabular = f\"l|{'r'*len(headers)}\"\n",
    "texheader = \" & \" + \" & \".join(headers) + \"\\\\\\\\\"\n",
    "texdata = \"\\\\hline\\n\"\n",
    "for label in data:\n",
    "    texdata += f\"{label} & {' & '.join(map(str, data[label]))} \\\\\\\\\\n\"\n",
    "    if label == \"BottomUp\":\n",
    "        texdata += \"\\\\hline\\n\"\n",
    "\n",
    "print(\"\\\\begin{table}\")\n",
    "print(\"\\\\caption{Mean Absolute Error (MAE)}\")\n",
    "print(\"\\label{mae-table}\")\n",
    "print(\"\\\\begin{tabular}{\"+textabular+\"}\")\n",
    "print(texheader)\n",
    "print(texdata, end=\"\")\n",
    "print(\"\\\\end{tabular}\")\n",
    "print(\"\\\\end{table}\")\n"
   ]
  },
  {
   "cell_type": "code",
   "execution_count": null,
   "id": "2b8b3450-ca06-42bf-8b07-be2db800e274",
   "metadata": {},
   "outputs": [],
   "source": []
  }
 ],
 "metadata": {
  "kernelspec": {
   "display_name": "Python 3 (ipykernel)",
   "language": "python",
   "name": "python3"
  },
  "language_info": {
   "codemirror_mode": {
    "name": "ipython",
    "version": 3
   },
   "file_extension": ".py",
   "mimetype": "text/x-python",
   "name": "python",
   "nbconvert_exporter": "python",
   "pygments_lexer": "ipython3",
   "version": "3.10.12"
  }
 },
 "nbformat": 4,
 "nbformat_minor": 5
}
