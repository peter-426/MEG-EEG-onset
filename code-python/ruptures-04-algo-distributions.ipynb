{
 "cells": [
  {
   "cell_type": "markdown",
   "id": "bb675a16-7bf8-4210-b933-967335618bc1",
   "metadata": {},
   "source": [
    "#### Optimised algorithms for change point detection (v4) \n",
    "\n",
    "#### Python package ruptures \n",
    "\n",
    "#### simulation using simulated data, gridsearch for optimal parameters\n",
    "\n",
    "author: peter\n",
    "\n",
    "date: 2024"
   ]
  },
  {
   "cell_type": "markdown",
   "id": "e8efc5ed-6a9e-4ece-b1da-225fd253f5d4",
   "metadata": {},
   "source": [
    "Ruptures: \n",
    "\n",
    "C. Truong, L. Oudre, N. Vayatis. Selective review of offline change point detection methods. Signal Processing, 167:107299, 2020.\n",
    "\n",
    "<li> https://centre-borelli.github.io/ruptures-docs/\n",
    "<li> https://github.com/deepcharles/ruptures\n",
    "<li> https://centre-borelli.github.io/ruptures-docs/user-guide/detection/\n",
    "<li> see also https://schuetzgroup.github.io/sdt-python/changepoint.html\n",
    "\n",
    "<br>\n",
    "\n",
    "Algorithms: Binseg, Pelt, Window, Dynp, KernelCPD, BottomUp\n",
    "\n",
    "Cost functions: (TO DO: add linear)<br>\n",
    "mdl_list =['l1', 'l2', 'normal', 'rbf', 'cosine', 'clinear', 'rank', 'mahalanobis', 'ar']\n",
    "<br>\n",
    "#### simulation \n",
    "for each algorithm:<br>\n",
    "&nbsp; set_seed(12345)<br>\n",
    "&nbsp; for each trial:<br>\n",
    "&nbsp; &nbsp; &nbsp; generate a new simulated dataset<br>\n",
    "&nbsp; &nbsp; &nbsp; for each cost_function in cost_function_set:<br>\n",
    "&nbsp; &nbsp; &nbsp; &nbsp; &nbsp; test algorithm<br>\n",
    "<br>\n",
    "#### metrics\n",
    "evaluate performance according to metrics<br>\n",
    "generate report\n",
    "<br>\n",
    "metrics to compare algorithm performance:\n",
    "<li>percent too early\n",
    "<li>percent too late\n",
    "<li>bias\n",
    "<li>MAE\n",
    "<li>variance\n",
    "<li>FDR"
   ]
  },
  {
   "cell_type": "code",
   "execution_count": 397,
   "id": "2c52712b-bcf8-4ffe-879d-c583e994d911",
   "metadata": {},
   "outputs": [],
   "source": [
    "import matplotlib.pylab as plt\n",
    "import ruptures as rpt\n",
    "import h5py\n",
    "import numpy as np\n",
    "import pandas as pd\n",
    "import seaborn as sns\n",
    "from matplotlib.ticker import PercentFormatter"
   ]
  },
  {
   "cell_type": "markdown",
   "id": "9474d260-26ab-47e6-83ab-06d935c8cea8",
   "metadata": {},
   "source": [
    "### Simulated data generation\n",
    "Every algorithm - parameter set will process the same random set of signals."
   ]
  },
  {
   "cell_type": "code",
   "execution_count": 398,
   "id": "f47d7716-1658-4d0f-9a57-9ba42188175e",
   "metadata": {},
   "outputs": [],
   "source": [
    "# set simulation parameters\n",
    "#\n",
    "my_rand_seed = 12345\n",
    "\n",
    "margin=10   # margin of error for false discovery rate (fdr): FP/(TP+FP)\n",
    "            # when detection is too late, e.g. > 10ms after true onset time\n",
    "\n",
    "num_signals = 100  # number of trials in simulation\n",
    "\n",
    "mu, sigma = 0, 3 # mean and standard deviation for simulated data generation\n",
    "mu2, sigma2 = mu + 1, sigma + 1\n",
    "\n",
    "n_bkps=1\n",
    "true_onset=200\n",
    "\n",
    "times = np.arange(0, 451, 1).tolist()\n",
    "\n",
    "# Note: A new Pelt algorithm object must created for each trial.\n",
    "# This might also be true for other algorithm implementations.\n",
    "# Negligible performance hit, so no need to optimise.\n",
    "\n",
    "#\n",
    "# Parameters for grid search\n",
    "#\n",
    "# linear cost function req > 1 dimension.\n",
    "mdl_list =['l1', 'l2', 'normal', 'rbf', 'cosine', 'clinear', 'rank', 'mahalanobis', 'ar']\n",
    "\n",
    "min_size_list = [2,3]\n",
    "\n",
    "jump_list = [4,5]\n",
    "\n",
    "algo_dict= {'BinSeg':1, 'Pelt':2, 'Window':3, 'Dynp':4, 'KernelCPD': 5, 'BottomUp': 6}"
   ]
  },
  {
   "cell_type": "code",
   "execution_count": 399,
   "id": "687a6fbf-3ff3-403e-b44e-6e9d65701530",
   "metadata": {},
   "outputs": [],
   "source": [
    "def make_data(mu, sigma, mu2, sigma2, true_onset, rng):\n",
    "    s1 = rng.normal(mu, sigma, true_onset-1)\n",
    "    s2 = rng.normal(mu2, sigma2, 251)\n",
    "    signal= np.array(list(s1) + list(s2))\n",
    "    return signal"
   ]
  },
  {
   "cell_type": "markdown",
   "id": "25e0380e-8f85-4fcb-b2f9-ea6c2bf0e476",
   "metadata": {},
   "source": [
    "### Algorithms and parameters"
   ]
  },
  {
   "cell_type": "code",
   "execution_count": 400,
   "id": "335a2e7f-07e5-46bb-b524-64130845c25f",
   "metadata": {},
   "outputs": [],
   "source": [
    "class Algo:\n",
    "    algo_name=\"\"\n",
    "    model = 'l2'\n",
    "    min_size = 2\n",
    "    jump = 5\n",
    "    pred_list = []\n",
    "    MAE=10000000\n",
    "    var=10000000\n",
    "    bias=10000000\n",
    "    fdr=10000000"
   ]
  },
  {
   "cell_type": "code",
   "execution_count": 401,
   "id": "e9814383-4752-45df-a579-6f81f8fbb17d",
   "metadata": {},
   "outputs": [],
   "source": [
    "\n",
    "def run_algo(algo_name):\n",
    "    obj_list=[]\n",
    "\n",
    "    if algo_name == 'KernelCPD':\n",
    "        print(algo_name)\n",
    "        mdl_list = ['linear', 'rbf', 'cosine']\n",
    "    elif algo_name == 'BottomUp':\n",
    "        print(algo_name)\n",
    "        mdl_list = ['l1', 'l2', 'rbf'] # dims must be > 1 to use linear\n",
    "    else:\n",
    "        print('other')\n",
    "        mdl_list =['l1', 'l2', 'normal', 'rbf', 'cosine', 'clinear', 'rank', 'mahalanobis', 'ar']\n",
    "\n",
    "    \n",
    "    for mdl in mdl_list:   # 9 models (or 10 if add linear)\n",
    "    \n",
    "        for ii in range(len(min_size_list)):\n",
    "    \n",
    "            min_size = min_size_list[ii]\n",
    "        \n",
    "            for jj in range(len(jump_list)):\n",
    "        \n",
    "                algo_obj = Algo()\n",
    "                algo_obj.algo_name=algo_name\n",
    "                algo_obj.model=mdl\n",
    "                algo_obj.min_size=min_size\n",
    "        \n",
    "                jump=jump_list[jj]\n",
    "                algo_obj.jump = jump\n",
    "                \n",
    "                algo_obj.pred_list = []\n",
    "                predictions = []\n",
    "                \n",
    "                rng = np.random.default_rng(my_rand_seed)  \n",
    "            \n",
    "                for kk in range(num_signals):\n",
    "                    # generate signal\n",
    "                    signal = make_data(mu, sigma, mu2, sigma2, true_onset, rng)\n",
    "                \n",
    "                    if algo_name == 'BinSeg':\n",
    "                        algo = rpt.Binseg(model=mdl, custom_cost=None, min_size=min_size, jump=jump, params=None).fit(signal)\n",
    "                        est_onset = algo.predict(n_bkps=n_bkps)\n",
    "                        predictions.append(est_onset[0])\n",
    "                    elif algo_name == 'Pelt':\n",
    "                        algo = rpt.Pelt(model=mdl, custom_cost=None, min_size=min_size, jump=jump, params=None).fit(signal)\n",
    "                        est_onset = algo.predict(pen=2)           # penalty 1 --> early, 10 --> late\n",
    "                        predictions.append(est_onset[0])\n",
    "                    elif algo_name == 'Window':\n",
    "                        algo = rpt.Window(width=100, model=mdl, custom_cost=None, min_size=2, jump=5).fit(signal)\n",
    "                        est_onset = algo.predict(n_bkps=n_bkps)\n",
    "                        predictions.append(est_onset[0])\n",
    "                    elif algo_name == 'Dynp':\n",
    "                        algo = rpt.Dynp(model=mdl, custom_cost=None, min_size=2, jump=5).fit(signal)\n",
    "                        est_onset = algo.predict(n_bkps=n_bkps)\n",
    "                        predictions.append(est_onset[0])\n",
    "                    elif algo_name == 'KernelCPD':\n",
    "                        algo = rpt.KernelCPD(kernel=mdl, min_size=2, jump=5, params=None).fit(signal)  # fast, written in C\n",
    "                        est_onset = algo.predict(n_bkps=n_bkps)\n",
    "                        predictions.append(est_onset[0])\n",
    "                    elif algo_name == 'BottomUp':\n",
    "                        algo = rpt.BottomUp(model=mdl, custom_cost=None, min_size=2, jump=5, params=None).fit(signal)  # written in C\n",
    "                        est_onset = algo.predict(n_bkps=n_bkps, pen=None)\n",
    "                        predictions.append(est_onset[0])\n",
    "                    else:\n",
    "                        print(\"algo not found\")\n",
    "                        return -1\n",
    "                              \n",
    "                algo_obj.pred_list.append(predictions)\n",
    "                obj_list.append(algo_obj)\n",
    "    \n",
    "    algo_dict[algo_name]=obj_list"
   ]
  },
  {
   "cell_type": "markdown",
   "id": "7e1c8381-029e-44b6-a269-c830157771b7",
   "metadata": {},
   "source": [
    "### helper functions"
   ]
  },
  {
   "cell_type": "code",
   "execution_count": 402,
   "id": "4f305d81-2893-4885-a3e8-568687b4290c",
   "metadata": {},
   "outputs": [],
   "source": [
    "def get_too_early(predictions, true_onset):\n",
    "    too_early = predictions[predictions < true_onset]\n",
    "    too_early = np.abs(too_early - true_onset)\n",
    "    return too_early\n",
    "\n",
    "\n",
    "def get_pct_too_early(predictions, true_onset):\n",
    "    too_early = predictions[predictions < true_onset]\n",
    "    pct_too_early = len(too_early)/len(predictions)\n",
    "    return pct_too_early\n",
    "\n",
    "\n",
    "def get_MAE(predictions, true_onset):\n",
    "    MAE = np.mean(np.abs(predictions - true_onset))\n",
    "    return MAE\n",
    "\n",
    "\n",
    "def get_std(predictions, true_onset):\n",
    "    std = np.std(predictions)\n",
    "    return std\n",
    "\n",
    "def get_variance(predictions, true_onset):\n",
    "    var = np.var(predictions)\n",
    "    return var\n",
    "\n",
    "def get_fdr(predictions, true_onset, margin):\n",
    "    errors = predictions - true_onset\n",
    "    early_count = sum(errors < 0)      # FP\n",
    "    late_count = sum(errors > margin)  # FP\n",
    "    fdr = (early_count + late_count)/len(predictions)\n",
    "    return fdr\n",
    "\n",
    "def get_bias(predictions, true_onset):\n",
    "    bias=np.mean(predictions) - true_onset\n",
    "    return bias\n",
    "\n",
    "\n",
    "# precision = TP/(TP + FP)\n",
    "def get_precision(predictions, true_onset, margin):\n",
    "    errors = predictions - true_onset\n",
    "    early_count = sum(errors < 0)      # FP\n",
    "    late_count = sum(errors > margin)  # FP\n",
    "    precision = (len(predictions) - (early_count + late_count))/len(predictions)\n",
    "    return precision\n",
    "\n",
    "\n",
    "# Same as precision if one onset prediction for each \n",
    "# time series where each time series has one true onset.\n",
    "# Not really any FNs by definition because FNs == FPs.\n",
    "#\n",
    "# recall = TP/(TP+FN)\n",
    "def get_recall(predictions, margin):\n",
    "    errors = predictions - true_onset\n",
    "    early_count = sum(errors < 0)      # FP\n",
    "    late_count = sum(errors > margin)  # FP\n",
    "    recall = (len(predictions) - (early_count + late_count))/len(predictions)\n",
    "    return recall\n",
    "\n",
    "# F1 = 2 * (precision * recall) / (precision + recall). \n",
    "def get_f1(precision, recall):\n",
    "    F1 = 2 * (precision * recall) / (precision + recall)\n",
    "    return F1\n",
    "\n",
    "def plot_predictions(predictions, title):\n",
    "    pass\n"
   ]
  },
  {
   "cell_type": "markdown",
   "id": "e2ed8a82-ce6c-4439-afe9-8bf810d4a968",
   "metadata": {},
   "source": [
    "# Run simulations and collect performance measurements"
   ]
  },
  {
   "cell_type": "markdown",
   "id": "fe9f41bd-81f8-43bf-8f5a-919fdf96cd6f",
   "metadata": {},
   "source": [
    "### Binseg\n",
    "https://dev.ipol.im/~truong/ruptures-docs/build/html/_modules/ruptures/detection/binseg.html <br>\n",
    "\n",
    "algorithm defaults: model='l2', custom_cost=None, min_size=2, jump=5, params=None"
   ]
  },
  {
   "cell_type": "code",
   "execution_count": 403,
   "id": "cbc3aeca-64f6-40a5-9334-f2bbdfe0fc8c",
   "metadata": {},
   "outputs": [
    {
     "name": "stdout",
     "output_type": "stream",
     "text": [
      "other\n"
     ]
    }
   ],
   "source": [
    "run_algo('BinSeg')\n"
   ]
  },
  {
   "cell_type": "markdown",
   "id": "96224220-640c-48a6-a337-8de4b29df75b",
   "metadata": {},
   "source": [
    "### Pelt\n",
    "https://dev.ipol.im/~truong/ruptures-docs/build/html/detection/pelt.html<br>\n",
    "<br>\n",
    "algorithm defaults: model='l2', custom_cost=None, min_size=2, jump=5, params=None"
   ]
  },
  {
   "cell_type": "code",
   "execution_count": 404,
   "id": "a095f494-167a-4e2e-8bf4-9a79bee4a973",
   "metadata": {},
   "outputs": [
    {
     "name": "stdout",
     "output_type": "stream",
     "text": [
      "other\n"
     ]
    }
   ],
   "source": [
    "run_algo('Pelt')\n"
   ]
  },
  {
   "cell_type": "markdown",
   "id": "f16e9403-8f5b-409b-9d6d-6be05d8f71db",
   "metadata": {},
   "source": [
    "### Window sliding segmentation\n",
    "https://dev.ipol.im/~truong/ruptures-docs/build/html/detection/window.html<br>\n",
    "<br>\n",
    "algorithm defaults: width=100, model='l2', custom_cost=None, min_size=2, jump=5, params=None"
   ]
  },
  {
   "cell_type": "code",
   "execution_count": 405,
   "id": "422edca0-e9cf-4cdd-b6a1-41b6128928c5",
   "metadata": {},
   "outputs": [
    {
     "name": "stdout",
     "output_type": "stream",
     "text": [
      "other\n"
     ]
    }
   ],
   "source": [
    "run_algo('Window')\n"
   ]
  },
  {
   "cell_type": "markdown",
   "id": "a7154b6e-2873-4402-8869-ddfa9f9958aa",
   "metadata": {},
   "source": [
    "### Dynamic Programming\n",
    "https://dev.ipol.im/~truong/ruptures-docs/build/html/detection/dynp.html<br>\n",
    "<br>\n",
    "algorithm defaults: model='l2', custom_cost=None, min_size=2, jump=5, params=None"
   ]
  },
  {
   "cell_type": "code",
   "execution_count": 406,
   "id": "fa0918f9-6764-4185-ab3f-df3467796738",
   "metadata": {},
   "outputs": [
    {
     "name": "stdout",
     "output_type": "stream",
     "text": [
      "other\n"
     ]
    }
   ],
   "source": [
    "run_algo('Dynp')\n"
   ]
  },
  {
   "cell_type": "markdown",
   "id": "230b3ea1-4d25-4554-9d90-dcc3425ee221",
   "metadata": {},
   "source": [
    "### KernelCPD\n",
    "Efficient kernel change point detection<br>\n",
    "Available kernels: linear, rbf, cosine <br>\n",
    "<br>\n",
    "algorithm defaults: kernel='linear', min_size=2, jump=5, params=None<br>\n",
    "<br>\n",
    "KernelCPD is implemented in C and is fast, so jump=1 and cannot be changed because increasing jump does not improve performance.\n",
    "KernelCPD is uses the same algorithm as Pelt?"
   ]
  },
  {
   "cell_type": "code",
   "execution_count": 407,
   "id": "bb115bef-4862-47a5-885d-46e5e8d6b363",
   "metadata": {},
   "outputs": [
    {
     "name": "stdout",
     "output_type": "stream",
     "text": [
      "KernelCPD\n"
     ]
    }
   ],
   "source": [
    "run_algo('KernelCPD')"
   ]
  },
  {
   "cell_type": "markdown",
   "id": "6a634530-1ca1-4efb-b7d8-8c00d3387aef",
   "metadata": {},
   "source": [
    "### Bottom up\n",
    "https://dev.ipol.im/~truong/ruptures-docs/build/html/detection/bottomup.html<br>\n",
    "available models = l1, l2, rbf <br>\n",
    "algorithm defaults: model='l2', custom_cost=None, min_size=2, jump=5, params=None <br>\n",
    "predict defaults: n_bkps=None, pen=None, epsilon=None"
   ]
  },
  {
   "cell_type": "code",
   "execution_count": 408,
   "id": "dc06566f-7a75-412d-aeea-687cdb104587",
   "metadata": {},
   "outputs": [
    {
     "name": "stdout",
     "output_type": "stream",
     "text": [
      "BottomUp\n"
     ]
    }
   ],
   "source": [
    "run_algo('BottomUp')"
   ]
  },
  {
   "cell_type": "markdown",
   "id": "84a9266d-f0b0-4dc4-bafe-dccb17b531a7",
   "metadata": {},
   "source": [
    "### Show algorithm and parameter combinations, and metrics"
   ]
  },
  {
   "cell_type": "code",
   "execution_count": 409,
   "id": "e420a226-e45c-4f3d-bb99-81e0c29d7402",
   "metadata": {},
   "outputs": [
    {
     "data": {
      "text/plain": [
       "dict_keys(['BinSeg', 'Pelt', 'Window', 'Dynp', 'KernelCPD', 'BottomUp'])"
      ]
     },
     "execution_count": 409,
     "metadata": {},
     "output_type": "execute_result"
    }
   ],
   "source": [
    "algo_dict.keys()"
   ]
  },
  {
   "cell_type": "code",
   "execution_count": 410,
   "id": "d84e2325-1d1c-4755-9ba6-8c255adf2f25",
   "metadata": {},
   "outputs": [
    {
     "name": "stdout",
     "output_type": "stream",
     "text": [
      "\n",
      ">>> BinSeg <<<\n",
      "model = l1           min_size=2,  jump=4,  MAE= 65.16,  fdr=  0.83\n",
      "model = l1           min_size=2,  jump=5,  MAE= 56.35,  fdr=  0.78\n",
      "model = l1           min_size=3,  jump=4,  MAE= 62.76,  fdr=  0.83\n",
      "model = l1           min_size=3,  jump=5,  MAE= 56.35,  fdr=  0.78\n",
      "model = l2           min_size=2,  jump=4,  MAE= 55.44,  fdr=  0.78\n",
      "model = l2           min_size=2,  jump=5,  MAE= 52.80,  fdr=  0.74\n",
      "model = l2           min_size=3,  jump=4,  MAE= 53.04,  fdr=  0.78\n",
      "model = l2           min_size=3,  jump=5,  MAE= 52.80,  fdr=  0.74\n",
      "model = normal       min_size=2,  jump=4,  MAE= 17.24,  fdr=  0.57\n",
      "model = normal       min_size=2,  jump=5,  MAE= 16.85,  fdr=  0.57\n",
      "model = normal       min_size=3,  jump=4,  MAE= 15.16,  fdr=  0.57\n",
      "model = normal       min_size=3,  jump=5,  MAE= 16.85,  fdr=  0.57\n",
      "model = rbf          min_size=2,  jump=4,  MAE= 23.04,  fdr=  0.62\n",
      "model = rbf          min_size=2,  jump=5,  MAE= 22.70,  fdr=  0.65\n",
      "model = rbf          min_size=3,  jump=4,  MAE= 23.04,  fdr=  0.62\n",
      "model = rbf          min_size=3,  jump=5,  MAE= 22.70,  fdr=  0.65\n",
      "model = cosine       min_size=2,  jump=4,  MAE= 77.76,  fdr=  0.86\n",
      "model = cosine       min_size=2,  jump=5,  MAE= 73.80,  fdr=  0.84\n",
      "model = cosine       min_size=3,  jump=4,  MAE= 75.08,  fdr=  0.86\n",
      "model = cosine       min_size=3,  jump=5,  MAE= 73.80,  fdr=  0.84\n",
      "model = clinear      min_size=2,  jump=4,  MAE=196.96,  fdr=  1.00\n",
      "model = clinear      min_size=2,  jump=5,  MAE=192.80,  fdr=  1.00\n",
      "model = clinear      min_size=3,  jump=4,  MAE=196.96,  fdr=  1.00\n",
      "model = clinear      min_size=3,  jump=5,  MAE=192.80,  fdr=  1.00\n",
      "model = rank         min_size=2,  jump=4,  MAE= 57.12,  fdr=  0.79\n",
      "model = rank         min_size=2,  jump=5,  MAE= 47.80,  fdr=  0.73\n",
      "model = rank         min_size=3,  jump=4,  MAE= 54.72,  fdr=  0.79\n",
      "model = rank         min_size=3,  jump=5,  MAE= 47.80,  fdr=  0.73\n",
      "model = mahalanobis  min_size=2,  jump=4,  MAE= 55.44,  fdr=  0.78\n",
      "model = mahalanobis  min_size=2,  jump=5,  MAE= 52.80,  fdr=  0.74\n",
      "model = mahalanobis  min_size=3,  jump=4,  MAE= 53.04,  fdr=  0.78\n",
      "model = mahalanobis  min_size=3,  jump=5,  MAE= 52.80,  fdr=  0.74\n",
      "model = ar           min_size=2,  jump=4,  MAE= 88.52,  fdr=  0.89\n",
      "model = ar           min_size=2,  jump=5,  MAE= 81.10,  fdr=  0.83\n",
      "model = ar           min_size=3,  jump=4,  MAE= 88.52,  fdr=  0.89\n",
      "model = ar           min_size=3,  jump=5,  MAE= 81.10,  fdr=  0.83\n",
      "36\n",
      "\n",
      ">>> Pelt <<<\n",
      "model = l1           min_size=2,  jump=4,  MAE=185.92,  fdr=  1.00\n",
      "model = l1           min_size=2,  jump=5,  MAE=181.35,  fdr=  1.00\n",
      "model = l1           min_size=3,  jump=4,  MAE=185.92,  fdr=  1.00\n",
      "model = l1           min_size=3,  jump=5,  MAE=181.35,  fdr=  1.00\n",
      "model = l2           min_size=2,  jump=4,  MAE=193.36,  fdr=  1.00\n",
      "model = l2           min_size=2,  jump=5,  MAE=192.15,  fdr=  1.00\n",
      "model = l2           min_size=3,  jump=4,  MAE=193.36,  fdr=  1.00\n",
      "model = l2           min_size=3,  jump=5,  MAE=192.15,  fdr=  1.00\n",
      "model = normal       min_size=2,  jump=4,  MAE=191.76,  fdr=  1.00\n",
      "model = normal       min_size=2,  jump=5,  MAE=188.70,  fdr=  1.00\n",
      "model = normal       min_size=3,  jump=4,  MAE=191.76,  fdr=  1.00\n",
      "model = normal       min_size=3,  jump=5,  MAE=188.70,  fdr=  1.00\n",
      "model = rbf          min_size=2,  jump=4,  MAE= 36.50,  fdr=  0.71\n",
      "model = rbf          min_size=2,  jump=5,  MAE= 32.05,  fdr=  0.67\n",
      "model = rbf          min_size=3,  jump=4,  MAE= 36.50,  fdr=  0.71\n",
      "model = rbf          min_size=3,  jump=5,  MAE= 32.05,  fdr=  0.67\n",
      "model = cosine       min_size=2,  jump=4,  MAE=145.08,  fdr=  1.00\n",
      "model = cosine       min_size=2,  jump=5,  MAE=131.00,  fdr=  0.98\n",
      "model = cosine       min_size=3,  jump=4,  MAE=145.08,  fdr=  1.00\n",
      "model = cosine       min_size=3,  jump=5,  MAE=131.00,  fdr=  0.98\n",
      "model = clinear      min_size=2,  jump=4,  MAE=193.44,  fdr=  1.00\n",
      "model = clinear      min_size=2,  jump=5,  MAE=191.20,  fdr=  1.00\n",
      "model = clinear      min_size=3,  jump=4,  MAE=193.44,  fdr=  1.00\n",
      "model = clinear      min_size=3,  jump=5,  MAE=191.20,  fdr=  1.00\n",
      "model = rank         min_size=2,  jump=4,  MAE=155.44,  fdr=  0.99\n",
      "model = rank         min_size=2,  jump=5,  MAE=142.70,  fdr=  0.99\n",
      "model = rank         min_size=3,  jump=4,  MAE=155.44,  fdr=  0.99\n",
      "model = rank         min_size=3,  jump=5,  MAE=142.70,  fdr=  0.99\n",
      "model = mahalanobis  min_size=2,  jump=4,  MAE=139.40,  fdr=  0.99\n",
      "model = mahalanobis  min_size=2,  jump=5,  MAE=124.75,  fdr=  0.94\n",
      "model = mahalanobis  min_size=3,  jump=4,  MAE=139.40,  fdr=  0.99\n",
      "model = mahalanobis  min_size=3,  jump=5,  MAE=124.75,  fdr=  0.94\n",
      "model = ar           min_size=2,  jump=4,  MAE=190.96,  fdr=  1.00\n",
      "model = ar           min_size=2,  jump=5,  MAE=193.30,  fdr=  1.00\n",
      "model = ar           min_size=3,  jump=4,  MAE=190.96,  fdr=  1.00\n",
      "model = ar           min_size=3,  jump=5,  MAE=193.30,  fdr=  1.00\n",
      "36\n",
      "\n",
      ">>> Window <<<\n",
      "model = l1           min_size=2,  jump=4,  MAE= 76.90,  fdr=  0.85\n",
      "model = l1           min_size=2,  jump=5,  MAE= 76.90,  fdr=  0.85\n",
      "model = l1           min_size=3,  jump=4,  MAE= 76.90,  fdr=  0.85\n",
      "model = l1           min_size=3,  jump=5,  MAE= 76.90,  fdr=  0.85\n",
      "model = l2           min_size=2,  jump=4,  MAE= 68.45,  fdr=  0.84\n",
      "model = l2           min_size=2,  jump=5,  MAE= 68.45,  fdr=  0.84\n",
      "model = l2           min_size=3,  jump=4,  MAE= 68.45,  fdr=  0.84\n",
      "model = l2           min_size=3,  jump=5,  MAE= 68.45,  fdr=  0.84\n",
      "model = normal       min_size=2,  jump=4,  MAE= 42.55,  fdr=  0.73\n",
      "model = normal       min_size=2,  jump=5,  MAE= 42.55,  fdr=  0.73\n",
      "model = normal       min_size=3,  jump=4,  MAE= 42.55,  fdr=  0.73\n",
      "model = normal       min_size=3,  jump=5,  MAE= 42.55,  fdr=  0.73\n",
      "model = rbf          min_size=2,  jump=4,  MAE= 66.25,  fdr=  0.83\n",
      "model = rbf          min_size=2,  jump=5,  MAE= 66.25,  fdr=  0.83\n",
      "model = rbf          min_size=3,  jump=4,  MAE= 66.25,  fdr=  0.83\n",
      "model = rbf          min_size=3,  jump=5,  MAE= 66.25,  fdr=  0.83\n",
      "model = cosine       min_size=2,  jump=4,  MAE= 88.60,  fdr=  0.92\n",
      "model = cosine       min_size=2,  jump=5,  MAE= 88.60,  fdr=  0.92\n",
      "model = cosine       min_size=3,  jump=4,  MAE= 88.60,  fdr=  0.92\n",
      "model = cosine       min_size=3,  jump=5,  MAE= 88.60,  fdr=  0.92\n",
      "model = clinear      min_size=2,  jump=4,  MAE= 99.20,  fdr=  0.97\n",
      "model = clinear      min_size=2,  jump=5,  MAE= 99.20,  fdr=  0.97\n",
      "model = clinear      min_size=3,  jump=4,  MAE= 99.20,  fdr=  0.97\n",
      "model = clinear      min_size=3,  jump=5,  MAE= 99.20,  fdr=  0.97\n",
      "model = rank         min_size=2,  jump=4,  MAE= 65.30,  fdr=  0.81\n",
      "model = rank         min_size=2,  jump=5,  MAE= 65.30,  fdr=  0.81\n",
      "model = rank         min_size=3,  jump=4,  MAE= 65.30,  fdr=  0.81\n",
      "model = rank         min_size=3,  jump=5,  MAE= 65.30,  fdr=  0.81\n",
      "model = mahalanobis  min_size=2,  jump=4,  MAE= 68.45,  fdr=  0.84\n",
      "model = mahalanobis  min_size=2,  jump=5,  MAE= 68.45,  fdr=  0.84\n",
      "model = mahalanobis  min_size=3,  jump=4,  MAE= 68.45,  fdr=  0.84\n",
      "model = mahalanobis  min_size=3,  jump=5,  MAE= 68.45,  fdr=  0.84\n",
      "model = ar           min_size=2,  jump=4,  MAE= 97.35,  fdr=  0.92\n",
      "model = ar           min_size=2,  jump=5,  MAE= 97.35,  fdr=  0.92\n",
      "model = ar           min_size=3,  jump=4,  MAE= 97.35,  fdr=  0.92\n",
      "model = ar           min_size=3,  jump=5,  MAE= 97.35,  fdr=  0.92\n",
      "36\n",
      "\n",
      ">>> Dynp <<<\n",
      "model = l1           min_size=2,  jump=4,  MAE= 55.95,  fdr=  0.78\n",
      "model = l1           min_size=2,  jump=5,  MAE= 55.95,  fdr=  0.78\n",
      "model = l1           min_size=3,  jump=4,  MAE= 55.95,  fdr=  0.78\n",
      "model = l1           min_size=3,  jump=5,  MAE= 55.95,  fdr=  0.78\n",
      "model = l2           min_size=2,  jump=4,  MAE= 52.80,  fdr=  0.74\n",
      "model = l2           min_size=2,  jump=5,  MAE= 52.80,  fdr=  0.74\n",
      "model = l2           min_size=3,  jump=4,  MAE= 52.80,  fdr=  0.74\n",
      "model = l2           min_size=3,  jump=5,  MAE= 52.80,  fdr=  0.74\n",
      "model = normal       min_size=2,  jump=4,  MAE= 16.85,  fdr=  0.57\n",
      "model = normal       min_size=2,  jump=5,  MAE= 16.85,  fdr=  0.57\n",
      "model = normal       min_size=3,  jump=4,  MAE= 16.85,  fdr=  0.57\n",
      "model = normal       min_size=3,  jump=5,  MAE= 16.85,  fdr=  0.57\n",
      "model = rbf          min_size=2,  jump=4,  MAE= 22.70,  fdr=  0.65\n",
      "model = rbf          min_size=2,  jump=5,  MAE= 22.70,  fdr=  0.65\n",
      "model = rbf          min_size=3,  jump=4,  MAE= 22.70,  fdr=  0.65\n",
      "model = rbf          min_size=3,  jump=5,  MAE= 22.70,  fdr=  0.65\n",
      "model = cosine       min_size=2,  jump=4,  MAE= 73.80,  fdr=  0.84\n",
      "model = cosine       min_size=2,  jump=5,  MAE= 73.80,  fdr=  0.84\n",
      "model = cosine       min_size=3,  jump=4,  MAE= 73.80,  fdr=  0.84\n",
      "model = cosine       min_size=3,  jump=5,  MAE= 73.80,  fdr=  0.84\n",
      "model = clinear      min_size=2,  jump=4,  MAE=192.80,  fdr=  1.00\n",
      "model = clinear      min_size=2,  jump=5,  MAE=192.80,  fdr=  1.00\n",
      "model = clinear      min_size=3,  jump=4,  MAE=192.80,  fdr=  1.00\n",
      "model = clinear      min_size=3,  jump=5,  MAE=192.80,  fdr=  1.00\n",
      "model = rank         min_size=2,  jump=4,  MAE= 47.80,  fdr=  0.73\n",
      "model = rank         min_size=2,  jump=5,  MAE= 47.80,  fdr=  0.73\n",
      "model = rank         min_size=3,  jump=4,  MAE= 47.80,  fdr=  0.73\n",
      "model = rank         min_size=3,  jump=5,  MAE= 47.80,  fdr=  0.73\n",
      "model = mahalanobis  min_size=2,  jump=4,  MAE= 52.80,  fdr=  0.74\n",
      "model = mahalanobis  min_size=2,  jump=5,  MAE= 52.80,  fdr=  0.74\n",
      "model = mahalanobis  min_size=3,  jump=4,  MAE= 52.80,  fdr=  0.74\n",
      "model = mahalanobis  min_size=3,  jump=5,  MAE= 52.80,  fdr=  0.74\n",
      "model = ar           min_size=2,  jump=4,  MAE= 81.10,  fdr=  0.83\n",
      "model = ar           min_size=2,  jump=5,  MAE= 81.10,  fdr=  0.83\n",
      "model = ar           min_size=3,  jump=4,  MAE= 81.10,  fdr=  0.83\n",
      "model = ar           min_size=3,  jump=5,  MAE= 81.10,  fdr=  0.83\n",
      "36\n",
      "\n",
      ">>> KernelCPD <<<\n",
      "model = linear       min_size=2,  jump=4,  MAE= 56.53,  fdr=  0.80\n",
      "model = linear       min_size=2,  jump=5,  MAE= 56.53,  fdr=  0.80\n",
      "model = linear       min_size=3,  jump=4,  MAE= 56.53,  fdr=  0.80\n",
      "model = linear       min_size=3,  jump=5,  MAE= 56.53,  fdr=  0.80\n",
      "model = rbf          min_size=2,  jump=4,  MAE= 25.55,  fdr=  0.71\n",
      "model = rbf          min_size=2,  jump=5,  MAE= 25.55,  fdr=  0.71\n",
      "model = rbf          min_size=3,  jump=4,  MAE= 25.55,  fdr=  0.71\n",
      "model = rbf          min_size=3,  jump=5,  MAE= 25.55,  fdr=  0.71\n",
      "model = cosine       min_size=2,  jump=4,  MAE= 83.44,  fdr=  0.87\n",
      "model = cosine       min_size=2,  jump=5,  MAE= 83.44,  fdr=  0.87\n",
      "model = cosine       min_size=3,  jump=4,  MAE= 83.44,  fdr=  0.87\n",
      "model = cosine       min_size=3,  jump=5,  MAE= 83.44,  fdr=  0.87\n",
      "12\n",
      "\n",
      ">>> BottomUp <<<\n",
      "model = l1           min_size=2,  jump=4,  MAE= 70.90,  fdr=  0.85\n",
      "model = l1           min_size=2,  jump=5,  MAE= 70.90,  fdr=  0.85\n",
      "model = l1           min_size=3,  jump=4,  MAE= 70.90,  fdr=  0.85\n",
      "model = l1           min_size=3,  jump=5,  MAE= 70.90,  fdr=  0.85\n",
      "model = l2           min_size=2,  jump=4,  MAE= 71.20,  fdr=  0.79\n",
      "model = l2           min_size=2,  jump=5,  MAE= 71.20,  fdr=  0.79\n",
      "model = l2           min_size=3,  jump=4,  MAE= 71.20,  fdr=  0.79\n",
      "model = l2           min_size=3,  jump=5,  MAE= 71.20,  fdr=  0.79\n",
      "model = rbf          min_size=2,  jump=4,  MAE= 45.50,  fdr=  0.75\n",
      "model = rbf          min_size=2,  jump=5,  MAE= 45.50,  fdr=  0.75\n",
      "model = rbf          min_size=3,  jump=4,  MAE= 45.50,  fdr=  0.75\n",
      "model = rbf          min_size=3,  jump=5,  MAE= 45.50,  fdr=  0.75\n",
      "12\n"
     ]
    }
   ],
   "source": [
    "verbose = True\n",
    "\n",
    "for alg in algo_dict.keys():\n",
    "    obj_list = algo_dict[alg]\n",
    "    \n",
    "    print(\"\\n>>> \" + obj_list[0].algo_name + \" <<<\")\n",
    "    for ii in range(len(obj_list)):\n",
    "        preds= np.array(obj_list[ii].pred_list)[0]\n",
    "        obj_list[ii].MAE  = get_MAE(preds, true_onset); \n",
    "        obj_list[ii].var  = get_variance(preds, true_onset)\n",
    "        obj_list[ii].bias = get_bias(preds, true_onset)\n",
    "        obj_list[ii].fdr  = get_fdr(preds, true_onset, margin)\n",
    "        if verbose==True:\n",
    "            print(\"model = %-12s min_size=%d,  jump=%d,  MAE=%6.2f,  fdr=%6.2f\" % \\\n",
    "                  (obj_list[ii].model, obj_list[ii].min_size, obj_list[ii].jump, obj_list[ii].MAE,  obj_list[ii].fdr) )\n",
    "    print(len(obj_list) )"
   ]
  },
  {
   "cell_type": "code",
   "execution_count": 411,
   "id": "7061d40f-6ecd-4780-a7c1-eeb7b3300baf",
   "metadata": {},
   "outputs": [
    {
     "name": "stdout",
     "output_type": "stream",
     "text": [
      "\n",
      ">>> BinSeg <<<\n",
      "number of algorithm objects= 36\n",
      "\n",
      ">>> Pelt <<<\n",
      "number of algorithm objects= 36\n",
      "\n",
      ">>> Window <<<\n",
      "number of algorithm objects= 36\n",
      "\n",
      ">>> Dynp <<<\n",
      "number of algorithm objects= 36\n",
      "\n",
      ">>> KernelCPD <<<\n",
      "number of algorithm objects= 12\n",
      "\n",
      ">>> BottomUp <<<\n",
      "number of algorithm objects= 12\n"
     ]
    }
   ],
   "source": [
    "verbose = False\n",
    "\n",
    "best_algo_dict = { } \n",
    "\n",
    "best_algo_dict['BinSeg']    =Algo()\n",
    "best_algo_dict['Pelt']      =Algo()\n",
    "best_algo_dict['Window']    =Algo()\n",
    "best_algo_dict['Dynp']      =Algo()\n",
    "best_algo_dict['KernelCPD'] =Algo()\n",
    "best_algo_dict['BottomUp']  =Algo()\n",
    "\n",
    "for alg in algo_dict.keys():\n",
    "    obj_list = algo_dict[alg]\n",
    "    \n",
    "    print(\"\\n>>> \" + obj_list[0].algo_name + \" <<<\")\n",
    "    for ii in range(len(obj_list)):\n",
    "        preds = np.array(obj_list[ii].pred_list)[0]\n",
    "        obj_list[ii].MAE = get_MAE(preds, true_onset); \n",
    "        obj_list[ii].var = get_variance(preds, true_onset)\n",
    "        obj_list[ii].bias= get_bias(preds, true_onset)\n",
    "        obj_list[ii].fdr = get_fdr(preds, true_onset, margin)\n",
    "        \n",
    "        if best_algo_dict[alg].MAE > obj_list[ii].MAE:\n",
    "            best_algo_dict[alg]=obj_list[ii]\n",
    "        \n",
    "        if verbose==True:\n",
    "            print(\"model=%10s, min_size=%d, jump=%d, MAE=%6.2f, fdr=%6.2f\" % \\\n",
    "                  (obj_list[ii].model, obj_list[ii].min_size, obj_list[ii].jump, obj_list[ii].MAE, obj_list[ii].fdr) )\n",
    "    print(\"number of algorithm objects=\", len(obj_list) )"
   ]
  },
  {
   "cell_type": "markdown",
   "id": "9d9be40e-7b76-423f-bce5-435412ca5f23",
   "metadata": {},
   "source": [
    "### Optimised algorithm peformance\n",
    "<li>mean absolute error (MAE)\n",
    "<li>variance (var)\n",
    "<li>bias\n",
    "<li>false discovery rate (fdr)"
   ]
  },
  {
   "cell_type": "code",
   "execution_count": 412,
   "id": "a8d499a7-8202-436e-adc2-4bec1a94a188",
   "metadata": {},
   "outputs": [
    {
     "name": "stdout",
     "output_type": "stream",
     "text": [
      "\n",
      "    BinSeg  model=normal    min_size=  3,  jump=  4,  MAE= 15.16, var=  818.08, bias=  3.96, fdr= 0.57 \n",
      "\n",
      "      Pelt  model=rbf       min_size=  2,  jump=  5,  MAE= 32.05, var= 2862.55, bias=  2.05, fdr= 0.67 \n",
      "\n",
      "    Window  model=normal    min_size=  2,  jump=  4,  MAE= 42.55, var= 4178.73, bias=  9.85, fdr= 0.73 \n",
      "\n",
      "      Dynp  model=normal    min_size=  2,  jump=  4,  MAE= 16.85, var= 1095.03, bias=  3.35, fdr= 0.57 \n",
      "\n",
      " KernelCPD  model=rbf       min_size=  2,  jump=  4,  MAE= 25.55, var= 1749.57, bias= 12.25, fdr= 0.71 \n",
      "\n",
      "  BottomUp  model=rbf       min_size=  2,  jump=  4,  MAE= 45.50, var= 4149.00, bias= 22.00, fdr= 0.75 \n"
     ]
    }
   ],
   "source": [
    "# dictionary of best algorithm objects\n",
    "#\n",
    "for alg in best_algo_dict.keys():\n",
    "    name=best_algo_dict[alg].algo_name\n",
    "    model = best_algo_dict[alg].model\n",
    "    min_size = best_algo_dict[alg].min_size\n",
    "    jump = best_algo_dict[alg].jump\n",
    "    MAE = best_algo_dict[alg].MAE\n",
    "    var = best_algo_dict[alg].var\n",
    "    bias = best_algo_dict[alg].bias\n",
    "    fdr = best_algo_dict[alg].fdr\n",
    "    print(\"\\n %9s  model=%-8s  min_size=%3d,  jump=%3d,  MAE=%6.2f, var=%8.2f, bias=%6.2f, fdr=%5.2f \" \\\n",
    "          % (name, model, min_size, jump, MAE, var, bias, fdr) )"
   ]
  },
  {
   "cell_type": "markdown",
   "id": "ba1357a9-c71b-4be4-ac25-c26de0b18752",
   "metadata": {},
   "source": [
    "### Plot detection distribution for the optimised algorithms"
   ]
  },
  {
   "cell_type": "code",
   "execution_count": 414,
   "id": "724a03c6-eaac-4349-9200-1323d3a81835",
   "metadata": {},
   "outputs": [
    {
     "data": {
      "image/png": "[encoded data removed]",
      "text/plain": [
       "<Figure size 1000x600 with 4 Axes>"
      ]
     },
     "metadata": {},
     "output_type": "display_data"
    }
   ],
   "source": [
    "fig, ((ax1, ax2), (ax3, ax4)) = plt.subplots(2, 2, sharex=True, sharey=True)\n",
    "fig.suptitle('Optimised CPD Algorithm predictions', y=1, fontsize=16)\n",
    "\n",
    "fig.set_figwidth(10)\n",
    "fig.set_figheight(6)\n",
    "\n",
    "plt.subplots_adjust(hspace = 0.3)\n",
    "plt.gca().yaxis.set_major_formatter(PercentFormatter(xmax=1,  decimals=0))\n",
    "\n",
    "binwidth=10\n",
    "bins = np.linspace(0, 450, 46)\n",
    "\n",
    "obj_list = best_algo_dict['BinSeg']\n",
    "mdl = obj_list.model\n",
    "preds =  obj_list.pred_list[0]\n",
    "ax1.hist(preds, color='blue', bins=bins,  weights=np.ones(len(preds)) / len(preds))\n",
    "ax1.set_title((\"BinSeg %s\" % mdl), fontsize=14)\n",
    "ax1.axvline(200, c=\"crimson\", label=\"real onset\")\n",
    "\n",
    "obj_list = best_algo_dict['Pelt']\n",
    "mdl = obj_list.model\n",
    "preds =  obj_list.pred_list[0]\n",
    "ax2.hist(preds, color='orange', bins=bins,  weights=np.ones(len(preds)) / len(preds))\n",
    "ax2.set_title((\"PELT %s\" % mdl), fontsize=14)\n",
    "ax2.axvline(200, c=\"crimson\", label=\"real onset\")\n",
    "\n",
    "obj_list = best_algo_dict['Window']\n",
    "mdl = obj_list.model\n",
    "preds =  obj_list.pred_list[0]\n",
    "ax3.hist(preds, color='gray', bins=bins,  weights=np.ones(len(preds)) / len(preds))\n",
    "ax3.set_title((\"Window %s\" % mdl), fontsize=14)\n",
    "ax3.set_xlabel(\"time (ms)\")\n",
    "ax3.axvline(200, c=\"crimson\", label=\"real onset\")\n",
    "\n",
    "obj_list = best_algo_dict['Dynp']\n",
    "mdl = obj_list.model\n",
    "preds =  obj_list.pred_list[0]\n",
    "ax4.hist(preds, color='yellow', bins=bins,  weights=np.ones(len(preds)) / len(preds))\n",
    "ax4.set_title( (\"Dynamic Programming %s\" % mdl), fontsize=14)\n",
    "ax4.set_xlabel(\"time (ms)\")\n",
    "ax4.axvline(200, c=\"crimson\", label=\"real onset\")\n",
    "\n",
    "for ax in fig.get_axes():\n",
    "    ax.label_outer()"
   ]
  },
  {
   "cell_type": "markdown",
   "id": "40b649b0-3ae5-4f6f-a98b-71b5a757ceb7",
   "metadata": {},
   "source": [
    "### plot distribution as in (Sassenhagen and Draschkow, 2019)"
   ]
  },
  {
   "cell_type": "code",
   "execution_count": 415,
   "id": "fc482c33-8cb9-4bc1-a1d8-ca87f9826a0d",
   "metadata": {},
   "outputs": [
    {
     "data": {
      "image/png": "[encoded data removed]",
      "text/plain": [
       "<Figure size 1200x600 with 2 Axes>"
      ]
     },
     "metadata": {},
     "output_type": "display_data"
    }
   ],
   "source": [
    "fig, [ax1, ax2] = plt.subplots(ncols=2)\n",
    "fig.set_figwidth(12)\n",
    "fig.set_figheight(6)\n",
    "\n",
    "obj_list = best_algo_dict['BinSeg']\n",
    "mdl = obj_list.model\n",
    "predictions =  obj_list.pred_list[0]\n",
    "\n",
    "# 10 ms time steps, 10ms bin width\n",
    "binwidth=10\n",
    "bins = np.linspace(0, 450, 46)\n",
    "\n",
    "plt.suptitle( (\"Optimised BinSeg, %s\" % mdl), fontsize=16)\n",
    "\n",
    "ax1.hist(predictions,  edgecolor='black', bins=bins,  weights=np.ones(len(predictions)) / len(predictions))\n",
    "ax1.set_title((\"Onset predictions\"), fontsize=14)\n",
    "ax1.axvline(200, c=\"crimson\", label=\"real onset\")\n",
    "ticks=ax1.get_yticks()\n",
    "ax1.set_yticks(ticks)\n",
    "ticks=ticks*100\n",
    "ticks = [int(v)for v in ticks]\n",
    "ax1.set_yticklabels(ticks);\n",
    "ax1.set_xlabel(\"detection time (ms)\")\n",
    "ax1.set_ylabel(\"percent\")\n",
    "\n",
    "plt.subplots_adjust(wspace = 0.3)\n",
    "total_predictions = len(predictions) # total number of predictions (predictions)\n",
    "\n",
    "ax2.axhline(0.05, c=\"r\", label=\"nominal 5% level\")\n",
    "ax2.set_ylabel(\"underestimations (cumulative %)\")\n",
    "ax2.set_xlabel(\"underestimation of onset (ms)\")\n",
    "ax2.set_xlim([0, 201])\n",
    "ax2.set_xticks(range(10,201,20))\n",
    "\n",
    "# this works better than sns histplot, etc, for reverse cumsum histogram\n",
    "bin_width=10\n",
    "bin_list = list(range(0, 201, bin_width))\n",
    "too_early = [] \n",
    "\n",
    "for data_point in predictions:\n",
    "    if data_point < true_onset:\n",
    "        data_point = abs(data_point - true_onset) \n",
    "        too_early.append(data_point)\n",
    "\n",
    "plt.hist(too_early, edgecolor='black', align=\"mid\", cumulative=-1, bins=bin_list, weights=np.ones(len(too_early)) / total_predictions)\n",
    "ax2.set_title((\"Too Early\"), fontsize=14)\n",
    "ticks=ax2.get_yticks()\n",
    "ax2.set_yticks(ticks)\n",
    "ticks=ticks*100\n",
    "ticks = [int(v)for v in ticks]\n",
    "ax2.set_yticklabels(ticks);"
   ]
  },
  {
   "cell_type": "markdown",
   "id": "e3361d68-be36-473d-966a-fbbabaaec364",
   "metadata": {},
   "source": [
    "### Table of Algorithms Optimised for MAE"
   ]
  },
  {
   "cell_type": "code",
   "execution_count": 416,
   "id": "62d6c20f-7e22-4410-8fca-bb3e83b3f1b1",
   "metadata": {},
   "outputs": [
    {
     "name": "stdout",
     "output_type": "stream",
     "text": [
      "\\begin{table}\n",
      "\\caption{Algorithm Parameters Optimised for Mean Absolute Error (MAE)}\n",
      "\\label{mae-table}\n",
      "\\begin{tabular}{l|rrrrrrr}\n",
      " & model & min size & jump & MAE & var & bias & fdr\\\\\n",
      "\\hline\n",
      "BinSeg & normal & 3 & 4 & 15.16 & 818.0783999999999 & 3.960000000000008 & 0.57 \\\\\n",
      "Pelt & rbf & 2 & 5 & 32.05 & 2862.5475 & 2.0500000000000114 & 0.67 \\\\\n",
      "Window & normal & 2 & 4 & 42.55 & 4178.727500000001 & 9.849999999999994 & 0.73 \\\\\n",
      "Dynp & normal & 2 & 4 & 16.85 & 1095.0275 & 3.3499999999999943 & 0.57 \\\\\n",
      "KernelCPD & rbf & 2 & 4 & 25.55 & 1749.5675 & 12.25 & 0.71 \\\\\n",
      "BottomUp & rbf & 2 & 4 & 45.5 & 4149.0 & 22.0 & 0.75 \\\\\n",
      "\\hline\n",
      "\\end{tabular}\n",
      "\\end{table}\n"
     ]
    }
   ],
   "source": [
    "headers = [ 'model', 'min size', 'jump', 'MAE', 'var', 'bias', 'fdr']\n",
    "data = dict()\n",
    "for alg in best_algo_dict.keys():\n",
    "    name=best_algo_dict[alg].algo_name\n",
    "    model = best_algo_dict[alg].model\n",
    "    min_size = best_algo_dict[alg].min_size\n",
    "    jump = best_algo_dict[alg].jump\n",
    "    MAE = best_algo_dict[alg].MAE\n",
    "    var = best_algo_dict[alg].var\n",
    "    bias = best_algo_dict[alg].bias\n",
    "    fdr = best_algo_dict[alg].fdr\n",
    "    data[name]   = [model, min_size, jump, MAE, var, bias, fdr]\n",
    "\n",
    "#data[\"KernelCPD\"] =  [1,2,3,4,5,6, 7, 8, 9]\n",
    "#data[\"BottonUp\"]  =  [1,2,3,4,5,6, 7, 8, 9]\n",
    "\n",
    "textabular = f\"l|{'r'*len(headers)}\"\n",
    "texheader = \" & \" + \" & \".join(headers) + \"\\\\\\\\\"\n",
    "texdata = \"\\\\hline\\n\"\n",
    "for label in data:\n",
    "    texdata += f\"{label} & {' & '.join(map(str,data[label]))} \\\\\\\\\\n\"\n",
    "    if label == \"BottomUp\":\n",
    "        texdata += \"\\\\hline\\n\"\n",
    "\n",
    "print(\"\\\\begin{table}\")\n",
    "print(\"\\\\caption{Algorithm Parameters Optimised for Mean Absolute Error (MAE)}\")\n",
    "print(\"\\label{mae-table}\")\n",
    "print(\"\\\\begin{tabular}{\"+textabular+\"}\")\n",
    "print(texheader)\n",
    "print(texdata, end=\"\")\n",
    "print(\"\\\\end{tabular}\")\n",
    "print(\"\\\\end{table}\")\n"
   ]
  },
  {
   "cell_type": "code",
   "execution_count": null,
   "id": "2b8b3450-ca06-42bf-8b07-be2db800e274",
   "metadata": {},
   "outputs": [],
   "source": []
  }
 ],
 "metadata": {
  "kernelspec": {
   "display_name": "Python 3 (ipykernel)",
   "language": "python",
   "name": "python3"
  },
  "language_info": {
   "codemirror_mode": {
    "name": "ipython",
    "version": 3
   },
   "file_extension": ".py",
   "mimetype": "text/x-python",
   "name": "python",
   "nbconvert_exporter": "python",
   "pygments_lexer": "ipython3",
   "version": "3.10.12"
  }
 },
 "nbformat": 4,
 "nbformat_minor": 5
}
