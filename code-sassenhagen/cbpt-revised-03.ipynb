{
 "cells": [
  {
   "cell_type": "code",
   "execution_count": 69,
   "id": "e041ace3",
   "metadata": {},
   "outputs": [
    {
     "name": "stdout",
     "output_type": "stream",
     "text": [
      "using python version:  3.10.12\n",
      "using mne version:  1.7.0\n"
     ]
    }
   ],
   "source": [
    "#!/usr/bin/env python3\n",
    "# -*- coding: utf-8 -*-\n",
    "\"\"\"\n",
    "Created on Thu Mar 28 22:34:29 2024\n",
    "\n",
    "author: peter\n",
    "\n",
    "# code from:  https://osf.io/xf53t\n",
    "\n",
    "Sassenhagen J, Draschkow D.\n",
    "Cluster-based permutation tests of MEG/EEG data do not establish significance\n",
    "of effect latency or location. Psychophysiology. 2019; 56:e13335.\n",
    " https://doi.org/10.1111/psyp.13335\n",
    "\"\"\"\n",
    "\n",
    "# python -c \"import mne; print(mne.__version__)\"\n",
    "#conda --version && python --version\n",
    "\n",
    "# https://github.com/jona-sassenhagen/mne_workshop_amsterdam/tree/master\n",
    "\n",
    "import os\n",
    "import time\n",
    "import numpy as np\n",
    "from scipy.stats import norm\n",
    "import matplotlib.pyplot as plt\n",
    "\n",
    "from sklearn.preprocessing import minmax_scale\n",
    "import pandas as pd\n",
    "import seaborn as sns\n",
    "\n",
    "from multiprocessing import Pool\n",
    "import tqdm\n",
    "\n",
    "import mne\n",
    "mne.set_log_level(False)\n",
    "from mne.datasets import testing\n",
    "\n",
    "# conda --version && python --version\n",
    "# conda 23.10.0\n",
    "# Python 3.11.5\n",
    "# python -c \"import mne; print(mne.__version__)\"\n",
    "# 1.6.1\n",
    "import platform\n",
    "print(\"using python version: \", platform.python_version())\n",
    "print(\"using mne version: \", mne.__version__)"
   ]
  },
  {
   "cell_type": "markdown",
   "id": "0049ce56-f512-4c13-8dc5-49319d9f269e",
   "metadata": {},
   "source": [
    "### load data"
   ]
  },
  {
   "cell_type": "code",
   "execution_count": 70,
   "id": "2b85fb76",
   "metadata": {},
   "outputs": [],
   "source": [
    "# load data\n",
    "\n",
    "rng = np.random.default_rng(12345)\n",
    "#print(rng)\n",
    "#rfloat = rng.random()\n",
    "\n",
    "# PosixPath('/home/phebden/mne_data/MNE-testing-data')\n",
    "# data_path = testing.data_path()  \n",
    "\n",
    "data_path = \"./sample-data/\"\n",
    "fname   = os.path.join(data_path, \"EEGLAB/test_raw.set\")\n",
    "locs_info_path = os.path.join(data_path, \"EEGLAB/test_chans.locs\")\n",
    "\n",
    "#raw = np.random.randn(10000, 0, 1)\n",
    "#fname =  \"sample_data/eeglab_data.set\"\n",
    "#montage =\"sample_data/eeglab_chan32.locs\"\n",
    "\n",
    "raw = mne.io.read_raw_eeglab(fname, preload=True, eog=[\"REF\"])\n",
    "\n",
    "montage = mne.channels.read_custom_montage(locs_info_path)\n",
    "# import correct channel names\n",
    "new_chan_names = np.loadtxt(locs_info_path, dtype=str, usecols=3)\n",
    "# get old channel names\n",
    "old_chan_names = raw.info[\"ch_names\"]\n",
    "# create a dictionary to match old channel names and new (correct) channel names\n",
    "chan_names_dict = {old_chan_names[i]:new_chan_names[i] for i in range(32)}\n",
    "# update the channel names in the dataset\n",
    "raw.rename_channels(chan_names_dict)\n",
    "\n",
    "raw.set_montage(montage)\n",
    "ica = mne.preprocessing.ICA(n_components=20, random_state=0)\n",
    "ica.fit(raw.copy().filter(20, 50))\n",
    "\n",
    "###  plot ica components ###\n",
    "#ica.plot_components() # outlines=\"skirt\");\n",
    "\n",
    "ica.exclude = [3, 13, 16]\n",
    "# band pass filter low=.1, high=30Hz\n",
    "raw = ica.apply(raw, exclude=ica.exclude).filter(.1, 30)\n",
    "raw.resample(100)\n",
    "# raw.drop_channels([\"STI 014\"])\n",
    "# change: from connectivity(raw.info, \"eeg\")\n",
    "conn, names = mne.channels.find_ch_adjacency(raw.info, \"eeg\")"
   ]
  },
  {
   "cell_type": "markdown",
   "id": "89388a90-00f1-46e4-9b28-2e62947b2722",
   "metadata": {},
   "source": [
    "### visualise"
   ]
  },
  {
   "cell_type": "code",
   "execution_count": 71,
   "id": "ce29122e",
   "metadata": {},
   "outputs": [],
   "source": [
    "#\n",
    "# visualise\n",
    "#\n",
    "topo = ica.get_components()[:, 1]\n",
    "\n",
    "pre_stim = np.zeros(15)\n",
    "post_stim = np.zeros(15)\n",
    "erp = minmax_scale(norm.pdf(np.linspace(-1.5, 1.5, 21)))\n",
    "\n",
    "erp = np.hstack((pre_stim, erp, post_stim)) * 1e-5 * 1.5\n",
    "\n",
    "erp = np.array([erp] * 32) * -topo[:, np.newaxis]\n",
    "\n",
    "### plot the range of RPs ###\n",
    "#plt.plot(erp.T)\n",
    "#plt.title(\"our ERP\")  # the sharp boundaries are intentional to make the onset objective"
   ]
  },
  {
   "cell_type": "markdown",
   "id": "eadfdb1e-5587-4e0f-a11c-4be118a3279c",
   "metadata": {},
   "source": [
    "### make epochs"
   ]
  },
  {
   "cell_type": "code",
   "execution_count": 72,
   "id": "1178125d",
   "metadata": {},
   "outputs": [],
   "source": [
    "#\n",
    "# make epochs, subtract baseline and crop\n",
    "#\n",
    "def make_epochs(effsize=1):\n",
    "    try:\n",
    "        onset = np.random.uniform()\n",
    "        raw_ = raw.copy().crop(onset)\n",
    "        epochs_onset = np.random.choice((0, 1, 2))\n",
    "        # events shape is (158,3)\n",
    "        events = mne.make_fixed_length_events(raw_, duration=.5)[epochs_onset::3]\n",
    "        events = events[sorted(np.random.choice(len(events), size=100, replace=False))]\n",
    "        # select every other row of the events array,\n",
    "        # and add 1 to the last column\n",
    "        events[::2, -1] += 1\n",
    "        epochs = mne.Epochs(raw_, events, preload=True).apply_baseline().crop(0, .5)\n",
    "        data = epochs.get_data(copy=True)\n",
    "        data += (np.array([erp if ii % 2 else np.zeros(erp.shape) for ii, _ in enumerate(events)]) * effsize)\n",
    "        return epochs\n",
    "    except Exception:\n",
    "        return make_epochs(effsize=effsize)"
   ]
  },
  {
   "cell_type": "code",
   "execution_count": 73,
   "id": "a62cbe53-13b7-4003-85c5-4ddc41f25a28",
   "metadata": {},
   "outputs": [],
   "source": [
    "### find cluster charactersitics, and for each cluster, find earliest time point"
   ]
  },
  {
   "cell_type": "code",
   "execution_count": 74,
   "id": "f15b9138",
   "metadata": {},
   "outputs": [],
   "source": [
    "#\n",
    "# find cluster characteristics and earliest time point in each cluster\n",
    "#\n",
    "def my_find_cluster_characteristics(epochs, alpha):\n",
    "    data_1,  data_2 = epochs[\"1\"].get_data(copy=False), epochs[\"2\"].get_data(copy=False)\n",
    "    res = mne.stats.permutation_cluster_test(\n",
    "        [data_1.swapaxes(1, 2), data_2.swapaxes(1, 2)], n_permutations=1000,\n",
    "        tail=1, adjacency=None)             #### conn is sparse matrix\n",
    "    t_obs, clusters, cluster_pv, H0 = res   #### clusters is a list of arrays\n",
    "\n",
    "\n",
    "    sign_clusters = cluster_pv < alpha   #  p value\n",
    "    if not sign_clusters.sum():\n",
    "        return None  # no sign clusters\n",
    "\n",
    "    # looking for the first datapoint included in any significant cluster\n",
    "    # original code:\n",
    "    # earliest_sign_datapoint = np.where((np.sum(np.array(clusters)[\n",
    "    #     np.where(sign_clusters)[0]], 0).sum(1) > 0))[0].min()\n",
    "\n",
    "    earliest_sign_datapoint = []\n",
    "    for ii in range(len(sign_clusters)):\n",
    "        if (sign_clusters[ii]):\n",
    "            earliest_sign_datapoint.append( min((clusters[ii][0])) )\n",
    "            earliest_sign_datapoint.append( min((clusters[ii][1])) )\n",
    "\n",
    "\n",
    "    return earliest_sign_datapoint, sign_clusters.sum()\n",
    "\n",
    "def make_one_run(ignore, effsize=0.50, alpha=0.05):\n",
    "\n",
    "    #print(\"effsize=\", effsize)\n",
    "\n",
    "    return my_find_cluster_characteristics(make_epochs(effsize=effsize), alpha)\n"
   ]
  },
  {
   "cell_type": "markdown",
   "id": "68d3ac4a-b35e-4208-8212-e5c0b192be80",
   "metadata": {},
   "source": [
    "### run simulation"
   ]
  },
  {
   "cell_type": "code",
   "execution_count": 75,
   "id": "16298046",
   "metadata": {},
   "outputs": [
    {
     "name": "stdout",
     "output_type": "stream",
     "text": [
      "n_sims = 480, alpha = 0.10\n",
      "processing effect size 1.00\n"
     ]
    },
    {
     "name": "stderr",
     "output_type": "stream",
     "text": [
      "/tmp/ipykernel_241158/2332796164.py:6: RuntimeWarning: No clusters found, returning empty H0, clusters, and cluster_pv\n",
      "  res = mne.stats.permutation_cluster_test(\n"
     ]
    },
    {
     "name": "stdout",
     "output_type": "stream",
     "text": [
      "Elapsed time = 382.7 sec, 0.8 sec per run\n"
     ]
    }
   ],
   "source": [
    "np.random.seed(seed=426)\n",
    "\n",
    "# check alpha threshold for p-values.\n",
    "# given n simulations, a higher alpha allows for more time points\n",
    "\n",
    "no_pool=True\n",
    "n_sims = 480 # 480  # 80 takes about 62 secs\n",
    "alpha=0.10\n",
    "\n",
    "print(\"n_sims = %d, alpha = %0.2f\" % (n_sims, alpha))\n",
    "\n",
    "#\n",
    "# Using laptop:\n",
    "# if not using Pool, Elapsed time = 546.6 seconds for n_sims=300\n",
    "# if using Pool, 10000 takes much too long\n",
    "#\n",
    "all_results = dict()\n",
    "effsizes = (1, ) # .50, .75, 1) # .5, .75, 1, 1.25, 1.5\n",
    "\n",
    "start=time.time()\n",
    "\n",
    "for ii, effsize in enumerate(effsizes):\n",
    "    def make_one_run_(x, alpha):\n",
    "        return make_one_run(x, effsize=effsize, alpha=alpha)\n",
    "\n",
    "    print(\"processing effect size %0.2f\" % effsize)\n",
    "\n",
    "    if no_pool:                                      # bug: n was ignored, fixed PJH\n",
    "        all_results[ii] = [make_one_run(1, effsize=effsize, alpha=alpha) for _ in range(n_sims)]\n",
    "    else:\n",
    "        with Pool() as p:\n",
    "            all_results[ii] = list(tqdm.tqdm(p.imap(make_one_run_, range(n_sims), alpha=alpha), total=n_sims))\n",
    "\n",
    "end=time.time()\n",
    "print(\"Elapsed time = %0.1f sec, %0.1f sec per run\" % ((end-start), ((end-start)/n_sims)) )\n"
   ]
  },
  {
   "cell_type": "markdown",
   "id": "d3108c83-049c-42e7-8e64-5609b284ebb0",
   "metadata": {},
   "source": [
    "### check time number of points"
   ]
  },
  {
   "cell_type": "code",
   "execution_count": 76,
   "id": "039c97fb",
   "metadata": {},
   "outputs": [
    {
     "name": "stdout",
     "output_type": "stream",
     "text": [
      "total number of time points = 136\n"
     ]
    }
   ],
   "source": [
    "#\n",
    "# check number of time points in all results\n",
    "#\n",
    "total=0\n",
    "\n",
    "for ii in range(len(all_results)):\n",
    "    result = all_results[ii]\n",
    "    if result != [None]:\n",
    "        for r in result:\n",
    "            if r:\n",
    "                total += len(r[0])\n",
    "\n",
    "print(\"total number of time points = %d\" % total)"
   ]
  },
  {
   "cell_type": "markdown",
   "id": "5b12ff53-aa41-4f64-a0b4-e52402043313",
   "metadata": {},
   "source": [
    "### plot results"
   ]
  },
  {
   "cell_type": "code",
   "execution_count": 84,
   "id": "d289d5c9",
   "metadata": {},
   "outputs": [],
   "source": [
    "def plot_results(claims, effect_size, fig_num):\n",
    "\n",
    "    fig, [ax1, ax2] = plt.subplots(ncols=2)\n",
    "    fig.set_size_inches(12, 4)\n",
    "\n",
    "    # smallest effect size [0], next smallest [1], ...\n",
    "    # for smaller effect size, event detection tends to be later (and after real onset)??????\n",
    "\n",
    "    # 10 ms time steps, 10ms bin width\n",
    "    sns.histplot([r * 10 for r in claims ],  binwidth=10, binrange=(-10, 450), ax=ax1, stat='percent')\n",
    "    ax1.axvline(16 * 10, c=\"crimson\", label=\"real onset\")\n",
    "    ax1.set_xlim([-10,450])\n",
    "    #ax1.set_xticks(range(-10, 451, 10))\n",
    "\n",
    "    ax1.set_ylabel(\"cases (%)\")\n",
    "    ax1.set_xlabel(\"earliest point included in any significant cluster (msec)\")\n",
    "    #ax1.set_yticks(ax1.get_yticks())\n",
    "    #ax1.set_yticklabels([round(label * 100, 2) for label in ax1.get_yticks()])\n",
    "    ax1.legend()\n",
    "    sns.despine()\n",
    "\n",
    "    ax2.axhline(.05, c=\"r\", label=\"nominal 5% level\")\n",
    "    ax2.set_ylabel(\"underestimations (cumulative %)\")\n",
    "    ax2.set_xlabel(\"underestimation of onset (msec)\")\n",
    "\n",
    "    ax2.set_xlim([10, 160])\n",
    "    ax2.set_xticks(range(10,161,10))\n",
    "    #s is a []\n",
    "    s = ((pd.Series(([-min(r - 16, 0) * 10 for r in claims ])).value_counts() / total_claims)\n",
    "          .sort_index(ascending=False).cumsum().sort_index())[1:]\n",
    "\n",
    "    all_ticks = range(10, 161, 10)\n",
    "    s_full = pd.Series(index=all_ticks, dtype=float).fillna(0)\n",
    "    s_full.update(s)\n",
    "\n",
    "    #error (where detected onset is before true onset time)\n",
    "    #if s.any() == False:\n",
    "    #    ax2.set_ylim([0, 1])\n",
    "    s_full.plot(ax=ax2, kind=\"bar\", color=\"C1\")\n",
    "    ax2.set_yticks(ax2.get_yticks())\n",
    "    ax2.set_yticklabels([int(label * 100) for label in ax2.get_yticks()])\n",
    "    sns.despine()\n",
    "    fig.suptitle('Onset Detection: effect size %0.2f, alpha %0.2f' % (effect_size, alpha), fontsize=16)\n",
    "\n",
    "    if (os.path.isdir(\"figs\") == False):\n",
    "        os.mkdir(\"figs\")\n",
    "    fig.savefig(\"figs/clusterf%d.pdf\"%fig_num, bbox_inches=\"tight\")\n",
    "\n"
   ]
  },
  {
   "cell_type": "markdown",
   "id": "931632b3-6de1-4dd1-a083-50afe6c745b8",
   "metadata": {},
   "source": [
    "### extract values from results for plotting"
   ]
  },
  {
   "cell_type": "code",
   "execution_count": 85,
   "id": "114d9bcf",
   "metadata": {},
   "outputs": [
    {
     "name": "stdout",
     "output_type": "stream",
     "text": [
      "total claims =  100\n"
     ]
    },
    {
     "data": {
      "image/png": "[encoded data removed]",
      "text/plain": [
       "<Figure size 1200x400 with 2 Axes>"
      ]
     },
     "metadata": {},
     "output_type": "display_data"
    }
   ],
   "source": [
    "#\n",
    "# plot results for each effect size for comparison\n",
    "#\n",
    "# effsizes set above\n",
    "\n",
    "my_effsizes=[]\n",
    "claims=[]\n",
    "errors = []\n",
    "\n",
    "for ii, effsize in enumerate(effsizes):\n",
    "    my_effsizes.append(effsize)\n",
    "\n",
    "    results = all_results[ii]\n",
    "    total_claims = 0\n",
    "    for result in results:\n",
    "        if result != None:\n",
    "            #print(result[0])\n",
    "            for claim in result[0]:\n",
    "                if claim > 0:\n",
    "                    total_claims += 1\n",
    "                    claims.append(int(claim) + 1)  # index 0 is first 10ms, so +1\n",
    "    #print(claims)\n",
    "    print(\"total claims = \", total_claims)\n",
    "    if (total_claims > 1):\n",
    "        plot_results(claims, effsizes[ii], ii)   # plot results\n",
    "\n",
    "        # record error rates\n",
    "        early = 100 * sum([r < 16 for r in claims if r]) / total_claims\n",
    "        hits =  100 * sum([r == 16 for r in claims if r]) / total_claims\n",
    "        late =  100 * sum([r > 16 for r in claims if r]) / total_claims\n",
    "        errors.append((early, late))"
   ]
  },
  {
   "cell_type": "markdown",
   "id": "61ccbbda-5b84-483a-8319-1baf89c7e1ae",
   "metadata": {},
   "source": [
    "### plot errors versus effect size"
   ]
  },
  {
   "cell_type": "code",
   "execution_count": 79,
   "id": "5c0da6ec",
   "metadata": {},
   "outputs": [
    {
     "data": {
      "image/png": "[encoded data removed]",
      "text/plain": [
       "<Figure size 600x400 with 1 Axes>"
      ]
     },
     "metadata": {},
     "output_type": "display_data"
    }
   ],
   "source": [
    "\n",
    "if errors and len(my_effsizes) > 0:\n",
    "    fig=plt.figure()\n",
    "    fig.set_size_inches(6, 4)\n",
    "    plt.plot(my_effsizes, errors, 'o', label=[\"early\", \"late\"]);\n",
    "    plt.legend(loc=\"best\");\n",
    "    plt.xlabel(\"effect size\");\n",
    "    plt.ylabel(\"percent\")\n",
    "    plt.title(\"Errors\")\n",
    "\n"
   ]
  },
  {
   "cell_type": "code",
   "execution_count": null,
   "id": "75da9826",
   "metadata": {},
   "outputs": [],
   "source": []
  }
 ],
 "metadata": {
  "kernelspec": {
   "display_name": "Python 3 (ipykernel)",
   "language": "python",
   "name": "python3"
  },
  "language_info": {
   "codemirror_mode": {
    "name": "ipython",
    "version": 3
   },
   "file_extension": ".py",
   "mimetype": "text/x-python",
   "name": "python",
   "nbconvert_exporter": "python",
   "pygments_lexer": "ipython3",
   "version": "3.10.12"
  }
 },
 "nbformat": 4,
 "nbformat_minor": 5
}
